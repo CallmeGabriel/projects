{
 "cells": [
  {
   "cell_type": "markdown",
   "metadata": {},
   "source": [
    " # TEXAS CAR ACCIDENT 2016 "
   ]
  },
  {
   "cell_type": "markdown",
   "metadata": {},
   "source": [
    "# Overview"
   ]
  },
  {
   "cell_type": "markdown",
   "metadata": {},
   "source": [
    "Texas Motor Vehicle releases each year its reportable craches. In 2016, Texas experienced an increase in the number of motor vehicle traffic fatalities with death toll of 3,794 which was an increase of 5.83% compared to 2015. With 264,588 persons injured in motor vehicle traffic crashes , there were no deathless days on Texas roadways in 2017. information containes in this report represents reportable data collected from Texas Pease Officer's Crash Reports (CR-3). The report was received and processed by the Department as May 06, 2019."
   ]
  },
  {
   "cell_type": "markdown",
   "metadata": {},
   "source": [
    "# Introduction\n"
   ]
  },
  {
   "cell_type": "markdown",
   "metadata": {},
   "source": [
    "Texas,of all states, leads the nation in the number of traffic accident fatalities consistently. Analyzing the report of 2018 can help us to have an idea of the circumstances of these accidents and also, to draw some conclusion and even make some projections that can helpful to predict the future. "
   ]
  },
  {
   "cell_type": "markdown",
   "metadata": {},
   "source": [
    "For our project on Texas Car accident 2018, we will use some Data Analysis Methods to perform the following analysis:\n",
    "\n",
    "1- Time Analysis \n",
    "\n",
    "2- Type Anaysis\n"
   ]
  },
  {
   "cell_type": "markdown",
   "metadata": {},
   "source": [
    "### What is Data Analysis ? Why Data Analysis for this project?\n",
    "Data analysis is defined as a process of cleaning, tranforming, and modeling data to discover useful information for decision making."
   ]
  },
  {
   "cell_type": "markdown",
   "metadata": {},
   "source": [
    "### Type of Data Analysis \n",
    "For this project, we will focus on the following :\n",
    "#### Test Analysis\n",
    "It is also called Data Mining. It is a method to discover a pattern in large datasets using data mining tools. It offers a way to extract and examine data and deriving patterns and finally interpretation of the data.\n",
    "#### Descriptive Analysis\n",
    "it analyses complete data. we will use it for percentage or ratio for categorical data.\n",
    "#### Diagnostic Analysis\n",
    "This analysis is useful to identify behavior patterns of data. If there is a new problem that was solved in the previous case, it will help to use the same answer to solve the new problem.\n",
    "#### Predictive Analysis\n",
    "This analysis makes predictions about future outcomes based on current and past data.\n",
    "#### Data Analysis Process\n",
    "it is often use for gathering information by using proper application or tools which allows you to explore the data and find a pattern in it. So from it, we can take decisions or simply we can get ultimate conclusions.\n",
    "\n",
    "The Data Analysis consists of the following phrases:\n",
    "* Data Requirement Gathering: the objective is to understand the data, observe and analyse it and come out with conclusion and projections\n",
    "\n",
    "* Data Collection: After gathering the data, we will get a clear idea about what we are looking for.\n",
    "\n",
    "* Data Cleaning: The data(is large) may contain duplicate records, errors, white spaces. Definitely, we need to clean our data.\n",
    "\n",
    "* Data Analysis : Once the data is cleaned, it shooud be ready for analysis. This guides you with the exact information you need  or if not, to collect more data.\n",
    "\n",
    "* Data interpretation: it comes after analysing the data. At this point , it is time to interpret our results.\n",
    "\n",
    "* Data Visualization: it often used to discover unknown facts and trends that will help us to find out meaningful information.\n"
   ]
  },
  {
   "cell_type": "markdown",
   "metadata": {},
   "source": [
    "We will be using Pandas, Matplotlib, and Folium for our analysis"
   ]
  },
  {
   "cell_type": "markdown",
   "metadata": {},
   "source": [
    "Here is our library with the modules that we will use"
   ]
  },
  {
   "cell_type": "code",
   "execution_count": 1,
   "metadata": {},
   "outputs": [],
   "source": [
    "# handle operations related to calendar\n",
    "import calendar \n",
    "\n",
    "# return information about the date object\n",
    "import datetime \n",
    "\n",
    "# handle time-related tasks\n",
    "import time  \n",
    "\n",
    "# for data structures and data analysis tools\n",
    "import pandas as pd\n",
    "\n",
    "# for scientific computing\n",
    "import numpy as np \n",
    "\n",
    "# for 2D plotting\n",
    "import matplotlib.pyplot as plt \n",
    "\n",
    "# to visualize geospatial data\n",
    "import folium  "
   ]
  },
  {
   "cell_type": "markdown",
   "metadata": {},
   "source": [
    "## Exploratory of data : Data analysis - Data cleaning"
   ]
  },
  {
   "cell_type": "markdown",
   "metadata": {},
   "source": [
    "Since we could download the file from Data.world, we can load our data into a Pandas dataframe then visualize the top rows of the data."
   ]
  },
  {
   "cell_type": "code",
   "execution_count": 2,
   "metadata": {},
   "outputs": [
    {
     "name": "stderr",
     "output_type": "stream",
     "text": [
      "C:\\Users\\Dear Gabriel\\.julia\\v0.6\\Conda\\deps\\usr\\lib\\site-packages\\IPython\\core\\interactiveshell.py:2714: DtypeWarning: Columns (19,34,37,44,46,80,84,88,91) have mixed types. Specify dtype option on import or set low_memory=False.\n",
      "  interactivity=interactivity, compiler=compiler, result=result)\n"
     ]
    },
    {
     "data": {
      "text/html": [
       "<div>\n",
       "<style scoped>\n",
       "    .dataframe tbody tr th:only-of-type {\n",
       "        vertical-align: middle;\n",
       "    }\n",
       "\n",
       "    .dataframe tbody tr th {\n",
       "        vertical-align: top;\n",
       "    }\n",
       "\n",
       "    .dataframe thead th {\n",
       "        text-align: right;\n",
       "    }\n",
       "</style>\n",
       "<table border=\"1\" class=\"dataframe\">\n",
       "  <thead>\n",
       "    <tr style=\"text-align: right;\">\n",
       "      <th></th>\n",
       "      <th>Crash_ID</th>\n",
       "      <th>Crash_Fatal_Fl</th>\n",
       "      <th>Cmv_Involv_Fl</th>\n",
       "      <th>Schl_Bus_Fl</th>\n",
       "      <th>Rr_Relat_Fl</th>\n",
       "      <th>Medical_Advisory_Fl</th>\n",
       "      <th>Amend_Supp_Fl</th>\n",
       "      <th>Active_School_Zone_Fl</th>\n",
       "      <th>Crash_Date</th>\n",
       "      <th>Crash_Time</th>\n",
       "      <th>...</th>\n",
       "      <th>sev_Injry</th>\n",
       "      <th>Nonincap_Injry_Cnt</th>\n",
       "      <th>mild_Injry_Cnt</th>\n",
       "      <th>Non_Injry_Cnt</th>\n",
       "      <th>Unkn_Injry_Cnt</th>\n",
       "      <th>Tot_Injry_Cnt</th>\n",
       "      <th>Death_Cnt</th>\n",
       "      <th>MPO_ID</th>\n",
       "      <th>Investigat_Service_ID</th>\n",
       "      <th>Investigat_DA_ID</th>\n",
       "    </tr>\n",
       "  </thead>\n",
       "  <tbody>\n",
       "    <tr>\n",
       "      <td>0</td>\n",
       "      <td>14207787</td>\n",
       "      <td>N</td>\n",
       "      <td>N</td>\n",
       "      <td>N</td>\n",
       "      <td>N</td>\n",
       "      <td>N</td>\n",
       "      <td>Y</td>\n",
       "      <td>N</td>\n",
       "      <td>1/5/2016</td>\n",
       "      <td>10:59 AM</td>\n",
       "      <td>...</td>\n",
       "      <td>0</td>\n",
       "      <td>0</td>\n",
       "      <td>0</td>\n",
       "      <td>2</td>\n",
       "      <td>0</td>\n",
       "      <td>0</td>\n",
       "      <td>0</td>\n",
       "      <td>28.0</td>\n",
       "      <td>175.0</td>\n",
       "      <td>NaN</td>\n",
       "    </tr>\n",
       "    <tr>\n",
       "      <td>1</td>\n",
       "      <td>14259624</td>\n",
       "      <td>N</td>\n",
       "      <td>N</td>\n",
       "      <td>N</td>\n",
       "      <td>N</td>\n",
       "      <td>N</td>\n",
       "      <td>Y</td>\n",
       "      <td>N</td>\n",
       "      <td>1/30/2016</td>\n",
       "      <td>4:13 PM</td>\n",
       "      <td>...</td>\n",
       "      <td>0</td>\n",
       "      <td>0</td>\n",
       "      <td>0</td>\n",
       "      <td>5</td>\n",
       "      <td>0</td>\n",
       "      <td>0</td>\n",
       "      <td>0</td>\n",
       "      <td>NaN</td>\n",
       "      <td>35.0</td>\n",
       "      <td>NaN</td>\n",
       "    </tr>\n",
       "    <tr>\n",
       "      <td>2</td>\n",
       "      <td>14768622</td>\n",
       "      <td>N</td>\n",
       "      <td>N</td>\n",
       "      <td>N</td>\n",
       "      <td>N</td>\n",
       "      <td>N</td>\n",
       "      <td>Y</td>\n",
       "      <td>N</td>\n",
       "      <td>2/9/2016</td>\n",
       "      <td>11:54 PM</td>\n",
       "      <td>...</td>\n",
       "      <td>0</td>\n",
       "      <td>0</td>\n",
       "      <td>0</td>\n",
       "      <td>1</td>\n",
       "      <td>0</td>\n",
       "      <td>0</td>\n",
       "      <td>0</td>\n",
       "      <td>15.0</td>\n",
       "      <td>35.0</td>\n",
       "      <td>NaN</td>\n",
       "    </tr>\n",
       "    <tr>\n",
       "      <td>3</td>\n",
       "      <td>14838618</td>\n",
       "      <td>N</td>\n",
       "      <td>N</td>\n",
       "      <td>N</td>\n",
       "      <td>N</td>\n",
       "      <td>N</td>\n",
       "      <td>N</td>\n",
       "      <td>N</td>\n",
       "      <td>1/1/2016</td>\n",
       "      <td>12:46 AM</td>\n",
       "      <td>...</td>\n",
       "      <td>0</td>\n",
       "      <td>0</td>\n",
       "      <td>0</td>\n",
       "      <td>3</td>\n",
       "      <td>0</td>\n",
       "      <td>0</td>\n",
       "      <td>0</td>\n",
       "      <td>282.0</td>\n",
       "      <td>35.0</td>\n",
       "      <td>NaN</td>\n",
       "    </tr>\n",
       "    <tr>\n",
       "      <td>4</td>\n",
       "      <td>14838631</td>\n",
       "      <td>N</td>\n",
       "      <td>N</td>\n",
       "      <td>N</td>\n",
       "      <td>N</td>\n",
       "      <td>N</td>\n",
       "      <td>N</td>\n",
       "      <td>N</td>\n",
       "      <td>1/1/2016</td>\n",
       "      <td>12:32 AM</td>\n",
       "      <td>...</td>\n",
       "      <td>0</td>\n",
       "      <td>0</td>\n",
       "      <td>0</td>\n",
       "      <td>4</td>\n",
       "      <td>1</td>\n",
       "      <td>0</td>\n",
       "      <td>0</td>\n",
       "      <td>15.0</td>\n",
       "      <td>35.0</td>\n",
       "      <td>NaN</td>\n",
       "    </tr>\n",
       "  </tbody>\n",
       "</table>\n",
       "<p>5 rows × 149 columns</p>\n",
       "</div>"
      ],
      "text/plain": [
       "   Crash_ID Crash_Fatal_Fl Cmv_Involv_Fl Schl_Bus_Fl Rr_Relat_Fl  \\\n",
       "0  14207787              N             N           N           N   \n",
       "1  14259624              N             N           N           N   \n",
       "2  14768622              N             N           N           N   \n",
       "3  14838618              N             N           N           N   \n",
       "4  14838631              N             N           N           N   \n",
       "\n",
       "  Medical_Advisory_Fl Amend_Supp_Fl Active_School_Zone_Fl Crash_Date  \\\n",
       "0                   N             Y                     N   1/5/2016   \n",
       "1                   N             Y                     N  1/30/2016   \n",
       "2                   N             Y                     N   2/9/2016   \n",
       "3                   N             N                     N   1/1/2016   \n",
       "4                   N             N                     N   1/1/2016   \n",
       "\n",
       "  Crash_Time  ... sev_Injry Nonincap_Injry_Cnt  mild_Injry_Cnt  Non_Injry_Cnt  \\\n",
       "0   10:59 AM  ...         0                  0               0              2   \n",
       "1    4:13 PM  ...         0                  0               0              5   \n",
       "2   11:54 PM  ...         0                  0               0              1   \n",
       "3   12:46 AM  ...         0                  0               0              3   \n",
       "4   12:32 AM  ...         0                  0               0              4   \n",
       "\n",
       "  Unkn_Injry_Cnt Tot_Injry_Cnt  Death_Cnt  MPO_ID  Investigat_Service_ID  \\\n",
       "0              0             0          0    28.0                  175.0   \n",
       "1              0             0          0     NaN                   35.0   \n",
       "2              0             0          0    15.0                   35.0   \n",
       "3              0             0          0   282.0                   35.0   \n",
       "4              1             0          0    15.0                   35.0   \n",
       "\n",
       "  Investigat_DA_ID  \n",
       "0              NaN  \n",
       "1              NaN  \n",
       "2              NaN  \n",
       "3              NaN  \n",
       "4              NaN  \n",
       "\n",
       "[5 rows x 149 columns]"
      ]
     },
     "execution_count": 2,
     "metadata": {},
     "output_type": "execute_result"
    }
   ],
   "source": [
    "df = pd.read_csv('C:/Users/Dear Gabriel/Desktop/senior prject/crash_2016.csv')\n",
    "\n",
    "#to visualize the first 5 rows\n",
    "df.head() "
   ]
  },
  {
   "cell_type": "markdown",
   "metadata": {},
   "source": [
    "The dataframe contains 149 columns...well it is a huge dataset just like Texas"
   ]
  },
  {
   "cell_type": "markdown",
   "metadata": {},
   "source": [
    "Let print a list with columns names. "
   ]
  },
  {
   "cell_type": "code",
   "execution_count": 3,
   "metadata": {},
   "outputs": [
    {
     "data": {
      "text/plain": [
       "['Crash_ID',\n",
       " 'Crash_Fatal_Fl',\n",
       " 'Cmv_Involv_Fl',\n",
       " 'Schl_Bus_Fl',\n",
       " 'Rr_Relat_Fl',\n",
       " 'Medical_Advisory_Fl',\n",
       " 'Amend_Supp_Fl',\n",
       " 'Active_School_Zone_Fl',\n",
       " 'Crash_Date',\n",
       " 'Crash_Time',\n",
       " 'Case_ID',\n",
       " 'Local_Use',\n",
       " 'Rpt_CRIS_Cnty_ID',\n",
       " 'Rpt_City_ID',\n",
       " 'Rpt_Outside_City_Limit_Fl',\n",
       " 'Thousand_Damage_Fl',\n",
       " 'Rpt_Latitude',\n",
       " 'Rpt_Longitude',\n",
       " 'Rpt_Rdwy_Sys_ID',\n",
       " 'Rpt_Hwy_Num',\n",
       " 'Rpt_Hwy_Sfx',\n",
       " 'num_vehic_inv',\n",
       " 'Rpt_Block_Num',\n",
       " 'Rpt_Street_Pfx',\n",
       " 'Rpt_Street_Name',\n",
       " 'Rpt_Street_Sfx',\n",
       " 'Private_Dr_Fl',\n",
       " 'Toll_Road_Fl',\n",
       " 'Crash_Speed_Limit',\n",
       " 'Road_Constr_Zone_Fl',\n",
       " 'Road_Constr_Zone_Wrkr_Fl',\n",
       " 'Rpt_Street_Desc',\n",
       " 'At_Intrsct_Fl',\n",
       " 'Rpt_Sec_Rdwy_Sys_ID',\n",
       " 'Rpt_Sec_Hwy_Num',\n",
       " 'Rpt_Sec_Hwy_Sfx',\n",
       " 'Rpt_Sec_Road_Part_ID',\n",
       " 'Rpt_Sec_Block_Num',\n",
       " 'Rpt_Sec_Street_Pfx',\n",
       " 'Rpt_Sec_Street_Name',\n",
       " 'Rpt_Sec_Street_Sfx',\n",
       " 'Rpt_Ref_Mark_Offset_Amt',\n",
       " 'Rpt_Ref_Mark_Dist_Uom',\n",
       " 'Rpt_Ref_Mark_Dir',\n",
       " 'Rpt_Ref_Mark_Nbr',\n",
       " 'Rpt_Sec_Street_Desc',\n",
       " 'Rpt_CrossingNumber',\n",
       " 'Wthr_Cond_ID',\n",
       " 'Light_Cond_ID',\n",
       " 'Entr_Road_ID',\n",
       " 'Road_Type_ID',\n",
       " 'Road_Algn_ID',\n",
       " 'Surf_Cond_ID',\n",
       " 'Traffic_Cntl_ID',\n",
       " 'Investigat_Notify_Time',\n",
       " 'Investigat_Notify_Meth',\n",
       " 'Investigat_Arrv_Time',\n",
       " 'Report_Date',\n",
       " 'Investigat_Comp_Fl',\n",
       " 'ORI_Number',\n",
       " 'Investigat_Agency_ID',\n",
       " 'Investigat_Area_ID',\n",
       " 'Investigat_District_ID',\n",
       " 'Investigat_Region_ID',\n",
       " 'Bridge_Detail_ID',\n",
       " 'Harm_Evnt_ID',\n",
       " 'Intrsct_Relat_ID',\n",
       " 'FHE_Collsn_ID',\n",
       " 'Obj_Struck_ID',\n",
       " 'Othr_Factr_ID',\n",
       " 'Road_Part_Adj_ID',\n",
       " 'Road_Cls_ID',\n",
       " 'Road_Relat_ID',\n",
       " 'Phys_Featr_1_ID',\n",
       " 'Phys_Featr_2_ID',\n",
       " 'Cnty_ID',\n",
       " 'City_ID',\n",
       " 'Latitude',\n",
       " 'Longitude',\n",
       " 'Hwy_Sys',\n",
       " 'Hwy_Nbr',\n",
       " 'Hwy_Sfx',\n",
       " 'Dfo',\n",
       " 'Street_Name',\n",
       " 'Street_Nbr',\n",
       " 'Control',\n",
       " 'Section',\n",
       " 'Milepoint',\n",
       " 'Ref_Mark_Nbr',\n",
       " 'Ref_Mark_Displ',\n",
       " 'Hwy_Sys_2',\n",
       " 'Hwy_Nbr_2',\n",
       " 'Hwy_Sfx_2',\n",
       " 'Street_Name_2',\n",
       " 'Street_Nbr_2',\n",
       " 'Control_2',\n",
       " 'Section_2',\n",
       " 'Milepoint_2',\n",
       " 'Txdot_Rptable_Fl',\n",
       " 'Onsys_Fl',\n",
       " 'Rural_Fl',\n",
       " 'Crash_Sev_ID',\n",
       " 'Pop_Group_ID',\n",
       " 'Located_Fl',\n",
       " 'Day_of_Week',\n",
       " 'Hwy_Dsgn_Lane_ID',\n",
       " 'Hwy_Dsgn_Hrt_ID',\n",
       " 'Hp_Shldr_Left',\n",
       " 'Hp_Shldr_Right',\n",
       " 'Hp_Median_Width',\n",
       " 'Base_Type_ID',\n",
       " 'Nbr_Of_Lane',\n",
       " 'Row_Width_Usual',\n",
       " 'Roadbed_Width',\n",
       " 'Surf_Width',\n",
       " 'Surf_Type_ID',\n",
       " 'Curb_Type_Left_ID',\n",
       " 'Curb_Type_Right_ID',\n",
       " 'Shldr_Type_Left_ID',\n",
       " 'Shldr_Width_Left',\n",
       " 'Shldr_Use_Left_ID',\n",
       " 'Shldr_Type_Right_ID',\n",
       " 'Shldr_Width_Right',\n",
       " 'Shldr_Use_Right_ID',\n",
       " 'Median_Type_ID',\n",
       " 'Median_Width',\n",
       " 'Rural_Urban_Type_ID',\n",
       " 'Func_Sys_ID',\n",
       " 'Adt_Curnt_Amt',\n",
       " 'Adt_Curnt_Year',\n",
       " 'Adt_Adj_Curnt_Amt',\n",
       " 'Pct_Single_Trk_Adt',\n",
       " 'Pct_Combo_Trk_Adt',\n",
       " 'Trk_Aadt_Pct',\n",
       " 'Curve_Type_ID',\n",
       " 'Curve_Lngth',\n",
       " 'Cd_Degr',\n",
       " 'Delta_Left_Right_ID',\n",
       " 'Dd_Degr',\n",
       " 'sev_Injry',\n",
       " 'Nonincap_Injry_Cnt',\n",
       " 'mild_Injry_Cnt',\n",
       " 'Non_Injry_Cnt',\n",
       " 'Unkn_Injry_Cnt',\n",
       " 'Tot_Injry_Cnt',\n",
       " 'Death_Cnt',\n",
       " 'MPO_ID',\n",
       " 'Investigat_Service_ID',\n",
       " 'Investigat_DA_ID']"
      ]
     },
     "execution_count": 3,
     "metadata": {},
     "output_type": "execute_result"
    }
   ],
   "source": [
    "list(df.columns)"
   ]
  },
  {
   "cell_type": "markdown",
   "metadata": {},
   "source": [
    "Let see see the information about a DataFrame including column types, non-null values and memory usage. We will see how many entries, total entries are in the data."
   ]
  },
  {
   "cell_type": "code",
   "execution_count": 4,
   "metadata": {},
   "outputs": [
    {
     "name": "stdout",
     "output_type": "stream",
     "text": [
      "<class 'pandas.core.frame.DataFrame'>\n",
      "RangeIndex: 630720 entries, 0 to 630719\n",
      "Columns: 149 entries, Crash_ID to Investigat_DA_ID\n",
      "dtypes: float64(57), int64(35), object(57)\n",
      "memory usage: 717.0+ MB\n"
     ]
    }
   ],
   "source": [
    "df.info()"
   ]
  },
  {
   "cell_type": "markdown",
   "metadata": {},
   "source": [
    "there are 630720 entries with 149 columns. This a large dataset. Unfortunately, we can't tell if there are null values. Let find out."
   ]
  },
  {
   "cell_type": "code",
   "execution_count": 5,
   "metadata": {},
   "outputs": [
    {
     "data": {
      "text/plain": [
       "True"
      ]
     },
     "execution_count": 5,
     "metadata": {},
     "output_type": "execute_result"
    }
   ],
   "source": [
    "# Is there null value?\n",
    "df.isnull().sum().any()\n",
    "\n",
    "# True\n",
    "# meaning there are null values"
   ]
  },
  {
   "cell_type": "markdown",
   "metadata": {},
   "source": [
    "we see many columns contain null values. We won't need them for our analysis.Let drop columns that we won't need for futher analysis"
   ]
  },
  {
   "cell_type": "code",
   "execution_count": 6,
   "metadata": {},
   "outputs": [],
   "source": [
    "df.drop([\n",
    " 'Crash_Fatal_Fl',\n",
    " 'Cmv_Involv_Fl',\n",
    " 'Schl_Bus_Fl',\n",
    " 'Rr_Relat_Fl',\n",
    " 'Medical_Advisory_Fl',\n",
    " 'Amend_Supp_Fl',\n",
    " 'Active_School_Zone_Fl',\n",
    " 'Case_ID',\n",
    " 'Local_Use',\n",
    " 'Rpt_CRIS_Cnty_ID',\n",
    " 'Rpt_City_ID',\n",
    " 'Rpt_Outside_City_Limit_Fl',\n",
    " 'Thousand_Damage_Fl',\n",
    " 'Rpt_Latitude',\n",
    " 'Rpt_Longitude',\n",
    " 'Rpt_Rdwy_Sys_ID',\n",
    " 'Rpt_Hwy_Num',\n",
    " 'Rpt_Hwy_Sfx',\n",
    " 'Rpt_Block_Num',\n",
    " 'Rpt_Street_Pfx',\n",
    " 'Rpt_Street_Name',\n",
    " 'Rpt_Street_Sfx',\n",
    " 'Private_Dr_Fl',\n",
    " 'Toll_Road_Fl',\n",
    " 'Crash_Speed_Limit',\n",
    " 'Road_Constr_Zone_Fl',\n",
    " 'Road_Constr_Zone_Wrkr_Fl',\n",
    " 'Rpt_Street_Desc',\n",
    " 'At_Intrsct_Fl',\n",
    " 'Rpt_Sec_Rdwy_Sys_ID',\n",
    " 'Rpt_Sec_Hwy_Num',\n",
    " 'Rpt_Sec_Hwy_Sfx',\n",
    " 'Rpt_Sec_Road_Part_ID',\n",
    " 'Rpt_Sec_Block_Num',\n",
    " 'Rpt_Sec_Street_Pfx',\n",
    " 'Rpt_Sec_Street_Name',\n",
    " 'Rpt_Sec_Street_Sfx',\n",
    " 'Rpt_Ref_Mark_Offset_Amt',\n",
    " 'Rpt_Ref_Mark_Dist_Uom',\n",
    " 'Rpt_Ref_Mark_Dir',\n",
    " 'Rpt_Ref_Mark_Nbr',\n",
    " 'Rpt_Sec_Street_Desc',\n",
    " 'Rpt_CrossingNumber',\n",
    " 'Wthr_Cond_ID',\n",
    " 'Light_Cond_ID',\n",
    " 'Entr_Road_ID',\n",
    " 'Road_Type_ID',\n",
    " 'Road_Algn_ID',\n",
    " 'Surf_Cond_ID',\n",
    " 'Traffic_Cntl_ID',\n",
    " 'Investigat_Notify_Time',\n",
    " 'Investigat_Notify_Meth',\n",
    " 'Investigat_Arrv_Time',\n",
    " 'Report_Date',\n",
    " 'Investigat_Comp_Fl',\n",
    " 'ORI_Number',\n",
    " 'Investigat_Agency_ID',\n",
    " 'Investigat_Area_ID',\n",
    " 'Investigat_District_ID',\n",
    " 'Investigat_Region_ID',\n",
    " 'Bridge_Detail_ID',\n",
    " 'Harm_Evnt_ID',\n",
    " 'Intrsct_Relat_ID',\n",
    " 'FHE_Collsn_ID',\n",
    " 'Obj_Struck_ID',\n",
    " 'Othr_Factr_ID',\n",
    " 'Road_Part_Adj_ID',\n",
    " 'Road_Cls_ID',\n",
    " 'Road_Relat_ID',\n",
    " 'Phys_Featr_1_ID',\n",
    " 'Phys_Featr_2_ID',\n",
    " 'Cnty_ID',\n",
    " 'City_ID',\n",
    " 'Hwy_Sys',\n",
    " 'Hwy_Nbr',\n",
    " 'Hwy_Sfx',\n",
    " 'Dfo',\n",
    " 'Street_Name',\n",
    " 'Street_Nbr',\n",
    " 'Control',\n",
    " 'Section',\n",
    " 'Milepoint',\n",
    " 'Ref_Mark_Nbr',\n",
    " 'Ref_Mark_Displ',\n",
    " 'Hwy_Sys_2',\n",
    " 'Hwy_Nbr_2',\n",
    " 'Hwy_Sfx_2',\n",
    " 'Street_Name_2',\n",
    " 'Street_Nbr_2',\n",
    " 'Control_2',\n",
    " 'Section_2',\n",
    " 'Milepoint_2',\n",
    " 'Txdot_Rptable_Fl',\n",
    " 'Onsys_Fl',\n",
    " 'Rural_Fl',\n",
    " 'Crash_Sev_ID',\n",
    " 'Pop_Group_ID',\n",
    " 'Located_Fl',\n",
    " 'Hwy_Dsgn_Lane_ID',\n",
    " 'Hwy_Dsgn_Hrt_ID',\n",
    " 'Hp_Shldr_Left',\n",
    " 'Hp_Shldr_Right',\n",
    " 'Hp_Median_Width',\n",
    " 'Base_Type_ID',\n",
    " 'Nbr_Of_Lane',\n",
    " 'Row_Width_Usual',\n",
    " 'Roadbed_Width',\n",
    " 'Surf_Width',\n",
    " 'Surf_Type_ID',\n",
    " 'Curb_Type_Left_ID',\n",
    " 'Curb_Type_Right_ID',\n",
    " 'Shldr_Type_Left_ID',\n",
    " 'Shldr_Width_Left',\n",
    " 'Shldr_Use_Left_ID',\n",
    " 'Shldr_Type_Right_ID',\n",
    " 'Shldr_Width_Right',\n",
    " 'Shldr_Use_Right_ID',\n",
    " 'Median_Type_ID',\n",
    " 'Median_Width',\n",
    " 'Rural_Urban_Type_ID',\n",
    " 'Func_Sys_ID',\n",
    " 'Adt_Curnt_Amt',\n",
    " 'Adt_Curnt_Year',\n",
    " 'Adt_Adj_Curnt_Amt',\n",
    " 'Pct_Single_Trk_Adt',\n",
    " 'Pct_Combo_Trk_Adt',\n",
    " 'Trk_Aadt_Pct',\n",
    " 'Curve_Type_ID',\n",
    " 'Curve_Lngth',\n",
    " 'Cd_Degr',\n",
    " 'Delta_Left_Right_ID',\n",
    " 'Dd_Degr',\n",
    " 'Nonincap_Injry_Cnt',\n",
    " 'Non_Injry_Cnt',\n",
    " 'Tot_Injry_Cnt',\n",
    " 'MPO_ID',\n",
    " 'Investigat_Service_ID',\n",
    " 'Investigat_DA_ID'\n",
    "]\n",
    ",axis=1 ,inplace=True)"
   ]
  },
  {
   "cell_type": "code",
   "execution_count": 7,
   "metadata": {},
   "outputs": [
    {
     "data": {
      "text/plain": [
       "Index(['Crash_ID', 'Crash_Date', 'Crash_Time', 'num_vehic_inv', 'Latitude',\n",
       "       'Longitude', 'Day_of_Week', 'sev_Injry', 'mild_Injry_Cnt',\n",
       "       'Unkn_Injry_Cnt', 'Death_Cnt'],\n",
       "      dtype='object')"
      ]
     },
     "execution_count": 7,
     "metadata": {},
     "output_type": "execute_result"
    }
   ],
   "source": [
    "# columns left after dropping\n",
    "df.columns\n",
    "\n",
    "# 'Crash_ID', 'Crash_Date', 'Crash_Time','num_vehic_inv'\n",
    "#       'Latitude', 'Longitude', 'Day_of_Week', 'sev_Injry',\n",
    "#       'mild_Injry_Cnt',\n",
    "#       'Unkn_Injry_Cnt', 'Death_Cnt'"
   ]
  },
  {
   "cell_type": "markdown",
   "metadata": {},
   "source": [
    "The first part of data mining was to build a new data by reducing the columns . We will keep only 16 out of 117 for futher analysis. That was the first step of the cleaning: dropping unnecessary columns ."
   ]
  },
  {
   "cell_type": "markdown",
   "metadata": {},
   "source": [
    "Let consult the data types since we just dropped many columns. This will help us to see the data type of each column"
   ]
  },
  {
   "cell_type": "code",
   "execution_count": 8,
   "metadata": {},
   "outputs": [
    {
     "name": "stdout",
     "output_type": "stream",
     "text": [
      "<class 'pandas.core.frame.DataFrame'>\n",
      "RangeIndex: 630720 entries, 0 to 630719\n",
      "Data columns (total 11 columns):\n",
      "Crash_ID          630720 non-null int64\n",
      "Crash_Date        630720 non-null object\n",
      "Crash_Time        630720 non-null object\n",
      "num_vehic_inv     630720 non-null int64\n",
      "Latitude          578193 non-null float64\n",
      "Longitude         578193 non-null float64\n",
      "Day_of_Week       630720 non-null object\n",
      "sev_Injry         630720 non-null int64\n",
      "mild_Injry_Cnt    630720 non-null int64\n",
      "Unkn_Injry_Cnt    630720 non-null int64\n",
      "Death_Cnt         630720 non-null int64\n",
      "dtypes: float64(2), int64(6), object(3)\n",
      "memory usage: 52.9+ MB\n"
     ]
    }
   ],
   "source": [
    "df.info()"
   ]
  },
  {
   "cell_type": "markdown",
   "metadata": {},
   "source": [
    "Latitude and Longitude present null space or no values but we need them for our analysis. So we are going to remove all the entries with no values in both Latitude and Longitude columns"
   ]
  },
  {
   "cell_type": "code",
   "execution_count": 9,
   "metadata": {},
   "outputs": [
    {
     "name": "stdout",
     "output_type": "stream",
     "text": [
      "<class 'pandas.core.frame.DataFrame'>\n",
      "RangeIndex: 630720 entries, 0 to 630719\n",
      "Data columns (total 11 columns):\n",
      "Crash_ID          630720 non-null int64\n",
      "Crash_Date        630720 non-null object\n",
      "Crash_Time        630720 non-null object\n",
      "num_vehic_inv     630720 non-null int64\n",
      "Latitude          630720 non-null float64\n",
      "Longitude         630720 non-null float64\n",
      "Day_of_Week       630720 non-null object\n",
      "sev_Injry         630720 non-null int64\n",
      "mild_Injry_Cnt    630720 non-null int64\n",
      "Unkn_Injry_Cnt    630720 non-null int64\n",
      "Death_Cnt         630720 non-null int64\n",
      "dtypes: float64(2), int64(6), object(3)\n",
      "memory usage: 52.9+ MB\n"
     ]
    }
   ],
   "source": [
    "# we start by replacing na values by 0\n",
    "df.fillna(0, inplace=True)\n",
    "df.info()\n",
    "# change in the longitude and latitude entrees"
   ]
  },
  {
   "cell_type": "code",
   "execution_count": 10,
   "metadata": {},
   "outputs": [
    {
     "data": {
      "text/html": [
       "<div>\n",
       "<style scoped>\n",
       "    .dataframe tbody tr th:only-of-type {\n",
       "        vertical-align: middle;\n",
       "    }\n",
       "\n",
       "    .dataframe tbody tr th {\n",
       "        vertical-align: top;\n",
       "    }\n",
       "\n",
       "    .dataframe thead th {\n",
       "        text-align: right;\n",
       "    }\n",
       "</style>\n",
       "<table border=\"1\" class=\"dataframe\">\n",
       "  <thead>\n",
       "    <tr style=\"text-align: right;\">\n",
       "      <th></th>\n",
       "      <th>Crash_ID</th>\n",
       "      <th>Crash_Date</th>\n",
       "      <th>Crash_Time</th>\n",
       "      <th>num_vehic_inv</th>\n",
       "      <th>Latitude</th>\n",
       "      <th>Longitude</th>\n",
       "      <th>Day_of_Week</th>\n",
       "      <th>sev_Injry</th>\n",
       "      <th>mild_Injry_Cnt</th>\n",
       "      <th>Unkn_Injry_Cnt</th>\n",
       "      <th>Death_Cnt</th>\n",
       "    </tr>\n",
       "  </thead>\n",
       "  <tbody>\n",
       "    <tr>\n",
       "      <td>0</td>\n",
       "      <td>14207787</td>\n",
       "      <td>1/5/2016</td>\n",
       "      <td>10:59 AM</td>\n",
       "      <td>1</td>\n",
       "      <td>29.400395</td>\n",
       "      <td>-98.530539</td>\n",
       "      <td>TUE</td>\n",
       "      <td>0</td>\n",
       "      <td>0</td>\n",
       "      <td>0</td>\n",
       "      <td>0</td>\n",
       "    </tr>\n",
       "    <tr>\n",
       "      <td>1</td>\n",
       "      <td>14259624</td>\n",
       "      <td>1/30/2016</td>\n",
       "      <td>4:13 PM</td>\n",
       "      <td>1</td>\n",
       "      <td>32.803694</td>\n",
       "      <td>-98.087942</td>\n",
       "      <td>SAT</td>\n",
       "      <td>0</td>\n",
       "      <td>0</td>\n",
       "      <td>0</td>\n",
       "      <td>0</td>\n",
       "    </tr>\n",
       "    <tr>\n",
       "      <td>2</td>\n",
       "      <td>14768622</td>\n",
       "      <td>2/9/2016</td>\n",
       "      <td>11:54 PM</td>\n",
       "      <td>1</td>\n",
       "      <td>30.180826</td>\n",
       "      <td>-95.196432</td>\n",
       "      <td>TUE</td>\n",
       "      <td>0</td>\n",
       "      <td>0</td>\n",
       "      <td>0</td>\n",
       "      <td>0</td>\n",
       "    </tr>\n",
       "    <tr>\n",
       "      <td>3</td>\n",
       "      <td>14838618</td>\n",
       "      <td>1/1/2016</td>\n",
       "      <td>12:46 AM</td>\n",
       "      <td>2</td>\n",
       "      <td>32.605167</td>\n",
       "      <td>-96.822952</td>\n",
       "      <td>FRI</td>\n",
       "      <td>0</td>\n",
       "      <td>0</td>\n",
       "      <td>0</td>\n",
       "      <td>0</td>\n",
       "    </tr>\n",
       "    <tr>\n",
       "      <td>4</td>\n",
       "      <td>14838631</td>\n",
       "      <td>1/1/2016</td>\n",
       "      <td>12:32 AM</td>\n",
       "      <td>1</td>\n",
       "      <td>30.423768</td>\n",
       "      <td>-95.479669</td>\n",
       "      <td>FRI</td>\n",
       "      <td>0</td>\n",
       "      <td>0</td>\n",
       "      <td>1</td>\n",
       "      <td>0</td>\n",
       "    </tr>\n",
       "  </tbody>\n",
       "</table>\n",
       "</div>"
      ],
      "text/plain": [
       "   Crash_ID Crash_Date Crash_Time  num_vehic_inv   Latitude  Longitude  \\\n",
       "0  14207787   1/5/2016   10:59 AM              1  29.400395 -98.530539   \n",
       "1  14259624  1/30/2016    4:13 PM              1  32.803694 -98.087942   \n",
       "2  14768622   2/9/2016   11:54 PM              1  30.180826 -95.196432   \n",
       "3  14838618   1/1/2016   12:46 AM              2  32.605167 -96.822952   \n",
       "4  14838631   1/1/2016   12:32 AM              1  30.423768 -95.479669   \n",
       "\n",
       "  Day_of_Week  sev_Injry  mild_Injry_Cnt  Unkn_Injry_Cnt  Death_Cnt  \n",
       "0         TUE          0               0               0          0  \n",
       "1         SAT          0               0               0          0  \n",
       "2         TUE          0               0               0          0  \n",
       "3         FRI          0               0               0          0  \n",
       "4         FRI          0               0               1          0  "
      ]
     },
     "execution_count": 10,
     "metadata": {},
     "output_type": "execute_result"
    }
   ],
   "source": [
    "df.head()"
   ]
  },
  {
   "cell_type": "markdown",
   "metadata": {},
   "source": [
    "Now we are going to drop all row entries with 0 entries in both longitude and latitude. We are using index."
   ]
  },
  {
   "cell_type": "code",
   "execution_count": 11,
   "metadata": {},
   "outputs": [],
   "source": [
    "# dropping rows with 0 entries into latitude and Longitude columns\n",
    "\n",
    "indexNames = df[df['Latitude']== 0 ].index\n",
    "df.drop(indexNames , inplace=True)\n",
    "\n",
    "indexNames1 = df[df['Longitude']== 0 ].index\n",
    "df.drop(indexNames1 , inplace=True)\n"
   ]
  },
  {
   "cell_type": "code",
   "execution_count": 12,
   "metadata": {},
   "outputs": [
    {
     "name": "stdout",
     "output_type": "stream",
     "text": [
      "<class 'pandas.core.frame.DataFrame'>\n",
      "Int64Index: 578193 entries, 0 to 630719\n",
      "Data columns (total 11 columns):\n",
      "Crash_ID          578193 non-null int64\n",
      "Crash_Date        578193 non-null object\n",
      "Crash_Time        578193 non-null object\n",
      "num_vehic_inv     578193 non-null int64\n",
      "Latitude          578193 non-null float64\n",
      "Longitude         578193 non-null float64\n",
      "Day_of_Week       578193 non-null object\n",
      "sev_Injry         578193 non-null int64\n",
      "mild_Injry_Cnt    578193 non-null int64\n",
      "Unkn_Injry_Cnt    578193 non-null int64\n",
      "Death_Cnt         578193 non-null int64\n",
      "dtypes: float64(2), int64(6), object(3)\n",
      "memory usage: 52.9+ MB\n"
     ]
    }
   ],
   "source": [
    "df.info() # check the new entries from 630720 to 578193."
   ]
  },
  {
   "cell_type": "markdown",
   "metadata": {},
   "source": [
    "We want to add a new column for number of victims injured in each crash. So we are going to create Victims which will be the sum of all the injuried in each accident"
   ]
  },
  {
   "cell_type": "markdown",
   "metadata": {},
   "source": [
    "We are going to modify our column names simply by replacing upper case letters with lower case(we can simply do the same thing by replacing spaces by underscores). This process is about changing columns names"
   ]
  },
  {
   "cell_type": "code",
   "execution_count": 13,
   "metadata": {},
   "outputs": [],
   "source": [
    "df.rename(columns=lambda x:x.replace(' ','_').lower(), inplace=True)"
   ]
  },
  {
   "cell_type": "code",
   "execution_count": 14,
   "metadata": {},
   "outputs": [
    {
     "data": {
      "text/plain": [
       "Index(['crash_id', 'crash_date', 'crash_time', 'num_vehic_inv', 'latitude',\n",
       "       'longitude', 'day_of_week', 'sev_injry', 'mild_injry_cnt',\n",
       "       'unkn_injry_cnt', 'death_cnt'],\n",
       "      dtype='object')"
      ]
     },
     "execution_count": 14,
     "metadata": {},
     "output_type": "execute_result"
    }
   ],
   "source": [
    "# our new columns\n",
    "df.columns"
   ]
  },
  {
   "cell_type": "code",
   "execution_count": 15,
   "metadata": {},
   "outputs": [
    {
     "data": {
      "text/html": [
       "<div>\n",
       "<style scoped>\n",
       "    .dataframe tbody tr th:only-of-type {\n",
       "        vertical-align: middle;\n",
       "    }\n",
       "\n",
       "    .dataframe tbody tr th {\n",
       "        vertical-align: top;\n",
       "    }\n",
       "\n",
       "    .dataframe thead th {\n",
       "        text-align: right;\n",
       "    }\n",
       "</style>\n",
       "<table border=\"1\" class=\"dataframe\">\n",
       "  <thead>\n",
       "    <tr style=\"text-align: right;\">\n",
       "      <th></th>\n",
       "      <th>crash_id</th>\n",
       "      <th>crash_date</th>\n",
       "      <th>crash_time</th>\n",
       "      <th>num_vehic_inv</th>\n",
       "      <th>latitude</th>\n",
       "      <th>longitude</th>\n",
       "      <th>day_of_week</th>\n",
       "      <th>sev_injry</th>\n",
       "      <th>mild_injry_cnt</th>\n",
       "      <th>unkn_injry_cnt</th>\n",
       "      <th>death_cnt</th>\n",
       "      <th>victims</th>\n",
       "    </tr>\n",
       "  </thead>\n",
       "  <tbody>\n",
       "    <tr>\n",
       "      <td>0</td>\n",
       "      <td>14207787</td>\n",
       "      <td>1/5/2016</td>\n",
       "      <td>10:59 AM</td>\n",
       "      <td>1</td>\n",
       "      <td>29.400395</td>\n",
       "      <td>-98.530539</td>\n",
       "      <td>TUE</td>\n",
       "      <td>0</td>\n",
       "      <td>0</td>\n",
       "      <td>0</td>\n",
       "      <td>0</td>\n",
       "      <td>0</td>\n",
       "    </tr>\n",
       "    <tr>\n",
       "      <td>1</td>\n",
       "      <td>14259624</td>\n",
       "      <td>1/30/2016</td>\n",
       "      <td>4:13 PM</td>\n",
       "      <td>1</td>\n",
       "      <td>32.803694</td>\n",
       "      <td>-98.087942</td>\n",
       "      <td>SAT</td>\n",
       "      <td>0</td>\n",
       "      <td>0</td>\n",
       "      <td>0</td>\n",
       "      <td>0</td>\n",
       "      <td>0</td>\n",
       "    </tr>\n",
       "    <tr>\n",
       "      <td>2</td>\n",
       "      <td>14768622</td>\n",
       "      <td>2/9/2016</td>\n",
       "      <td>11:54 PM</td>\n",
       "      <td>1</td>\n",
       "      <td>30.180826</td>\n",
       "      <td>-95.196432</td>\n",
       "      <td>TUE</td>\n",
       "      <td>0</td>\n",
       "      <td>0</td>\n",
       "      <td>0</td>\n",
       "      <td>0</td>\n",
       "      <td>0</td>\n",
       "    </tr>\n",
       "    <tr>\n",
       "      <td>3</td>\n",
       "      <td>14838618</td>\n",
       "      <td>1/1/2016</td>\n",
       "      <td>12:46 AM</td>\n",
       "      <td>2</td>\n",
       "      <td>32.605167</td>\n",
       "      <td>-96.822952</td>\n",
       "      <td>FRI</td>\n",
       "      <td>0</td>\n",
       "      <td>0</td>\n",
       "      <td>0</td>\n",
       "      <td>0</td>\n",
       "      <td>0</td>\n",
       "    </tr>\n",
       "    <tr>\n",
       "      <td>4</td>\n",
       "      <td>14838631</td>\n",
       "      <td>1/1/2016</td>\n",
       "      <td>12:32 AM</td>\n",
       "      <td>1</td>\n",
       "      <td>30.423768</td>\n",
       "      <td>-95.479669</td>\n",
       "      <td>FRI</td>\n",
       "      <td>0</td>\n",
       "      <td>0</td>\n",
       "      <td>1</td>\n",
       "      <td>0</td>\n",
       "      <td>1</td>\n",
       "    </tr>\n",
       "    <tr>\n",
       "      <td>...</td>\n",
       "      <td>...</td>\n",
       "      <td>...</td>\n",
       "      <td>...</td>\n",
       "      <td>...</td>\n",
       "      <td>...</td>\n",
       "      <td>...</td>\n",
       "      <td>...</td>\n",
       "      <td>...</td>\n",
       "      <td>...</td>\n",
       "      <td>...</td>\n",
       "      <td>...</td>\n",
       "      <td>...</td>\n",
       "    </tr>\n",
       "    <tr>\n",
       "      <td>630714</td>\n",
       "      <td>15725757</td>\n",
       "      <td>12/25/2016</td>\n",
       "      <td>1:14 AM</td>\n",
       "      <td>1</td>\n",
       "      <td>29.898806</td>\n",
       "      <td>-95.506549</td>\n",
       "      <td>SUN</td>\n",
       "      <td>0</td>\n",
       "      <td>0</td>\n",
       "      <td>0</td>\n",
       "      <td>1</td>\n",
       "      <td>0</td>\n",
       "    </tr>\n",
       "    <tr>\n",
       "      <td>630715</td>\n",
       "      <td>15732878</td>\n",
       "      <td>12/29/2016</td>\n",
       "      <td>8:37 PM</td>\n",
       "      <td>1</td>\n",
       "      <td>26.232565</td>\n",
       "      <td>-98.392770</td>\n",
       "      <td>THU</td>\n",
       "      <td>0</td>\n",
       "      <td>0</td>\n",
       "      <td>0</td>\n",
       "      <td>0</td>\n",
       "      <td>0</td>\n",
       "    </tr>\n",
       "    <tr>\n",
       "      <td>630716</td>\n",
       "      <td>15732880</td>\n",
       "      <td>12/16/2016</td>\n",
       "      <td>12:00 PM</td>\n",
       "      <td>1</td>\n",
       "      <td>26.235129</td>\n",
       "      <td>-98.384365</td>\n",
       "      <td>FRI</td>\n",
       "      <td>0</td>\n",
       "      <td>0</td>\n",
       "      <td>0</td>\n",
       "      <td>0</td>\n",
       "      <td>0</td>\n",
       "    </tr>\n",
       "    <tr>\n",
       "      <td>630717</td>\n",
       "      <td>15732920</td>\n",
       "      <td>12/28/2016</td>\n",
       "      <td>10:18 AM</td>\n",
       "      <td>1</td>\n",
       "      <td>26.221443</td>\n",
       "      <td>-98.371345</td>\n",
       "      <td>WED</td>\n",
       "      <td>0</td>\n",
       "      <td>0</td>\n",
       "      <td>0</td>\n",
       "      <td>0</td>\n",
       "      <td>0</td>\n",
       "    </tr>\n",
       "    <tr>\n",
       "      <td>630719</td>\n",
       "      <td>15737489</td>\n",
       "      <td>12/26/2016</td>\n",
       "      <td>12:28 PM</td>\n",
       "      <td>1</td>\n",
       "      <td>30.024148</td>\n",
       "      <td>-97.154075</td>\n",
       "      <td>MON</td>\n",
       "      <td>0</td>\n",
       "      <td>0</td>\n",
       "      <td>0</td>\n",
       "      <td>0</td>\n",
       "      <td>0</td>\n",
       "    </tr>\n",
       "  </tbody>\n",
       "</table>\n",
       "<p>578193 rows × 12 columns</p>\n",
       "</div>"
      ],
      "text/plain": [
       "        crash_id  crash_date crash_time  num_vehic_inv   latitude  longitude  \\\n",
       "0       14207787    1/5/2016   10:59 AM              1  29.400395 -98.530539   \n",
       "1       14259624   1/30/2016    4:13 PM              1  32.803694 -98.087942   \n",
       "2       14768622    2/9/2016   11:54 PM              1  30.180826 -95.196432   \n",
       "3       14838618    1/1/2016   12:46 AM              2  32.605167 -96.822952   \n",
       "4       14838631    1/1/2016   12:32 AM              1  30.423768 -95.479669   \n",
       "...          ...         ...        ...            ...        ...        ...   \n",
       "630714  15725757  12/25/2016    1:14 AM              1  29.898806 -95.506549   \n",
       "630715  15732878  12/29/2016    8:37 PM              1  26.232565 -98.392770   \n",
       "630716  15732880  12/16/2016   12:00 PM              1  26.235129 -98.384365   \n",
       "630717  15732920  12/28/2016   10:18 AM              1  26.221443 -98.371345   \n",
       "630719  15737489  12/26/2016   12:28 PM              1  30.024148 -97.154075   \n",
       "\n",
       "       day_of_week  sev_injry  mild_injry_cnt  unkn_injry_cnt  death_cnt  \\\n",
       "0              TUE          0               0               0          0   \n",
       "1              SAT          0               0               0          0   \n",
       "2              TUE          0               0               0          0   \n",
       "3              FRI          0               0               0          0   \n",
       "4              FRI          0               0               1          0   \n",
       "...            ...        ...             ...             ...        ...   \n",
       "630714         SUN          0               0               0          1   \n",
       "630715         THU          0               0               0          0   \n",
       "630716         FRI          0               0               0          0   \n",
       "630717         WED          0               0               0          0   \n",
       "630719         MON          0               0               0          0   \n",
       "\n",
       "        victims  \n",
       "0             0  \n",
       "1             0  \n",
       "2             0  \n",
       "3             0  \n",
       "4             1  \n",
       "...         ...  \n",
       "630714        0  \n",
       "630715        0  \n",
       "630716        0  \n",
       "630717        0  \n",
       "630719        0  \n",
       "\n",
       "[578193 rows x 12 columns]"
      ]
     },
     "execution_count": 15,
     "metadata": {},
     "output_type": "execute_result"
    }
   ],
   "source": [
    "df['victims'] = df['sev_injry'] + df['mild_injry_cnt'] + df['unkn_injry_cnt'] # axis = 1 for columns\n",
    "df"
   ]
  },
  {
   "cell_type": "code",
   "execution_count": 16,
   "metadata": {},
   "outputs": [
    {
     "data": {
      "text/plain": [
       "0         0\n",
       "1         0\n",
       "2         0\n",
       "3         0\n",
       "4         1\n",
       "         ..\n",
       "630714    0\n",
       "630715    0\n",
       "630716    0\n",
       "630717    0\n",
       "630719    0\n",
       "Length: 578193, dtype: int64"
      ]
     },
     "execution_count": 16,
     "metadata": {},
     "output_type": "execute_result"
    }
   ],
   "source": [
    "df['sev_injry'] + df['mild_injry_cnt']+ df['unkn_injry_cnt']"
   ]
  },
  {
   "cell_type": "markdown",
   "metadata": {},
   "source": [
    "We are going to add new columns for datetime objects using crash_date and crash_time columns. The purpose will be to combine the new columns into a new column of 'crash_date'. \n",
    "We will be using DatetimeIndex as a tool which can be boxed to Timestamp objects that are subclasses of datetime. This tool is good to convert for instance month into integer to prevent ValueError."
   ]
  },
  {
   "cell_type": "code",
   "execution_count": 17,
   "metadata": {},
   "outputs": [],
   "source": [
    "df['year'] = pd.DatetimeIndex(df['crash_date']).year #new column showing years\n",
    "df['month'] = pd.DatetimeIndex(df['crash_date']).month # new column showing months\n",
    "df['day'] = pd.DatetimeIndex(df['crash_date']).day # new column showing days\n",
    "df['hour'] = pd.DatetimeIndex(df['crash_time']).hour # new column showing hours\n"
   ]
  },
  {
   "cell_type": "code",
   "execution_count": 18,
   "metadata": {},
   "outputs": [
    {
     "data": {
      "text/html": [
       "<div>\n",
       "<style scoped>\n",
       "    .dataframe tbody tr th:only-of-type {\n",
       "        vertical-align: middle;\n",
       "    }\n",
       "\n",
       "    .dataframe tbody tr th {\n",
       "        vertical-align: top;\n",
       "    }\n",
       "\n",
       "    .dataframe thead th {\n",
       "        text-align: right;\n",
       "    }\n",
       "</style>\n",
       "<table border=\"1\" class=\"dataframe\">\n",
       "  <thead>\n",
       "    <tr style=\"text-align: right;\">\n",
       "      <th></th>\n",
       "      <th>crash_id</th>\n",
       "      <th>crash_date</th>\n",
       "      <th>crash_time</th>\n",
       "      <th>num_vehic_inv</th>\n",
       "      <th>latitude</th>\n",
       "      <th>longitude</th>\n",
       "      <th>day_of_week</th>\n",
       "      <th>sev_injry</th>\n",
       "      <th>mild_injry_cnt</th>\n",
       "      <th>unkn_injry_cnt</th>\n",
       "      <th>death_cnt</th>\n",
       "      <th>victims</th>\n",
       "      <th>year</th>\n",
       "      <th>month</th>\n",
       "      <th>day</th>\n",
       "      <th>hour</th>\n",
       "    </tr>\n",
       "  </thead>\n",
       "  <tbody>\n",
       "    <tr>\n",
       "      <td>0</td>\n",
       "      <td>14207787</td>\n",
       "      <td>1/5/2016</td>\n",
       "      <td>10:59 AM</td>\n",
       "      <td>1</td>\n",
       "      <td>29.400395</td>\n",
       "      <td>-98.530539</td>\n",
       "      <td>TUE</td>\n",
       "      <td>0</td>\n",
       "      <td>0</td>\n",
       "      <td>0</td>\n",
       "      <td>0</td>\n",
       "      <td>0</td>\n",
       "      <td>2016</td>\n",
       "      <td>1</td>\n",
       "      <td>5</td>\n",
       "      <td>10</td>\n",
       "    </tr>\n",
       "    <tr>\n",
       "      <td>1</td>\n",
       "      <td>14259624</td>\n",
       "      <td>1/30/2016</td>\n",
       "      <td>4:13 PM</td>\n",
       "      <td>1</td>\n",
       "      <td>32.803694</td>\n",
       "      <td>-98.087942</td>\n",
       "      <td>SAT</td>\n",
       "      <td>0</td>\n",
       "      <td>0</td>\n",
       "      <td>0</td>\n",
       "      <td>0</td>\n",
       "      <td>0</td>\n",
       "      <td>2016</td>\n",
       "      <td>1</td>\n",
       "      <td>30</td>\n",
       "      <td>16</td>\n",
       "    </tr>\n",
       "    <tr>\n",
       "      <td>2</td>\n",
       "      <td>14768622</td>\n",
       "      <td>2/9/2016</td>\n",
       "      <td>11:54 PM</td>\n",
       "      <td>1</td>\n",
       "      <td>30.180826</td>\n",
       "      <td>-95.196432</td>\n",
       "      <td>TUE</td>\n",
       "      <td>0</td>\n",
       "      <td>0</td>\n",
       "      <td>0</td>\n",
       "      <td>0</td>\n",
       "      <td>0</td>\n",
       "      <td>2016</td>\n",
       "      <td>2</td>\n",
       "      <td>9</td>\n",
       "      <td>23</td>\n",
       "    </tr>\n",
       "    <tr>\n",
       "      <td>3</td>\n",
       "      <td>14838618</td>\n",
       "      <td>1/1/2016</td>\n",
       "      <td>12:46 AM</td>\n",
       "      <td>2</td>\n",
       "      <td>32.605167</td>\n",
       "      <td>-96.822952</td>\n",
       "      <td>FRI</td>\n",
       "      <td>0</td>\n",
       "      <td>0</td>\n",
       "      <td>0</td>\n",
       "      <td>0</td>\n",
       "      <td>0</td>\n",
       "      <td>2016</td>\n",
       "      <td>1</td>\n",
       "      <td>1</td>\n",
       "      <td>0</td>\n",
       "    </tr>\n",
       "    <tr>\n",
       "      <td>4</td>\n",
       "      <td>14838631</td>\n",
       "      <td>1/1/2016</td>\n",
       "      <td>12:32 AM</td>\n",
       "      <td>1</td>\n",
       "      <td>30.423768</td>\n",
       "      <td>-95.479669</td>\n",
       "      <td>FRI</td>\n",
       "      <td>0</td>\n",
       "      <td>0</td>\n",
       "      <td>1</td>\n",
       "      <td>0</td>\n",
       "      <td>1</td>\n",
       "      <td>2016</td>\n",
       "      <td>1</td>\n",
       "      <td>1</td>\n",
       "      <td>0</td>\n",
       "    </tr>\n",
       "  </tbody>\n",
       "</table>\n",
       "</div>"
      ],
      "text/plain": [
       "   crash_id crash_date crash_time  num_vehic_inv   latitude  longitude  \\\n",
       "0  14207787   1/5/2016   10:59 AM              1  29.400395 -98.530539   \n",
       "1  14259624  1/30/2016    4:13 PM              1  32.803694 -98.087942   \n",
       "2  14768622   2/9/2016   11:54 PM              1  30.180826 -95.196432   \n",
       "3  14838618   1/1/2016   12:46 AM              2  32.605167 -96.822952   \n",
       "4  14838631   1/1/2016   12:32 AM              1  30.423768 -95.479669   \n",
       "\n",
       "  day_of_week  sev_injry  mild_injry_cnt  unkn_injry_cnt  death_cnt  victims  \\\n",
       "0         TUE          0               0               0          0        0   \n",
       "1         SAT          0               0               0          0        0   \n",
       "2         TUE          0               0               0          0        0   \n",
       "3         FRI          0               0               0          0        0   \n",
       "4         FRI          0               0               1          0        1   \n",
       "\n",
       "   year  month  day  hour  \n",
       "0  2016      1    5    10  \n",
       "1  2016      1   30    16  \n",
       "2  2016      2    9    23  \n",
       "3  2016      1    1     0  \n",
       "4  2016      1    1     0  "
      ]
     },
     "execution_count": 18,
     "metadata": {},
     "output_type": "execute_result"
    }
   ],
   "source": [
    "# our new data with new columns\n",
    "df.head()"
   ]
  },
  {
   "cell_type": "markdown",
   "metadata": {},
   "source": [
    "Let combine day_of_week, month, day and year into date column (then we delete crash_date column later\n",
    "\n"
   ]
  },
  {
   "cell_type": "code",
   "execution_count": 19,
   "metadata": {},
   "outputs": [],
   "source": [
    "df['date']=pd.to_datetime(df[['month','day','year','hour']])"
   ]
  },
  {
   "cell_type": "markdown",
   "metadata": {},
   "source": [
    "Just to be fancy, we are going to add new column time_of_day base on hour columns"
   ]
  },
  {
   "cell_type": "code",
   "execution_count": 20,
   "metadata": {},
   "outputs": [],
   "source": [
    "def _time_of_day(hour):\n",
    "    \n",
    "    if (hour > 4) & (hour <= 11):\n",
    "        tod = \"morning\"\n",
    "    elif (hour > 11) & (hour <= 16):\n",
    "        tod = \"afternoon\"\n",
    "    elif (hour > 16) & (hour <= 19):\n",
    "        tod = \"evening\"\n",
    "    else:\n",
    "        tod = \"night\"\n",
    "    \n",
    "    return tod"
   ]
  },
  {
   "cell_type": "code",
   "execution_count": 21,
   "metadata": {},
   "outputs": [],
   "source": [
    "df[\"time_of_day\"] = df[\"hour\"].apply(lambda row: _time_of_day(row))"
   ]
  },
  {
   "cell_type": "code",
   "execution_count": 22,
   "metadata": {},
   "outputs": [
    {
     "data": {
      "text/plain": [
       "['crash_id',\n",
       " 'num_vehic_inv',\n",
       " 'latitude',\n",
       " 'longitude',\n",
       " 'day_of_week',\n",
       " 'sev_injry',\n",
       " 'mild_injry_cnt',\n",
       " 'unkn_injry_cnt',\n",
       " 'death_cnt',\n",
       " 'victims',\n",
       " 'hour',\n",
       " 'date',\n",
       " 'time_of_day']"
      ]
     },
     "execution_count": 22,
     "metadata": {},
     "output_type": "execute_result"
    }
   ],
   "source": [
    "# Drop columns crash_date_time, hour, day, month, year\n",
    "\n",
    "df.drop(['crash_date','crash_time','day','month','year'], axis=1, inplace=True)\n",
    "\n",
    "\n",
    "\n",
    "# Dataframe columns\n",
    "\n",
    "list(df.columns)"
   ]
  },
  {
   "cell_type": "code",
   "execution_count": 23,
   "metadata": {},
   "outputs": [
    {
     "data": {
      "text/html": [
       "<div>\n",
       "<style scoped>\n",
       "    .dataframe tbody tr th:only-of-type {\n",
       "        vertical-align: middle;\n",
       "    }\n",
       "\n",
       "    .dataframe tbody tr th {\n",
       "        vertical-align: top;\n",
       "    }\n",
       "\n",
       "    .dataframe thead th {\n",
       "        text-align: right;\n",
       "    }\n",
       "</style>\n",
       "<table border=\"1\" class=\"dataframe\">\n",
       "  <thead>\n",
       "    <tr style=\"text-align: right;\">\n",
       "      <th></th>\n",
       "      <th>crash_id</th>\n",
       "      <th>num_vehic_inv</th>\n",
       "      <th>latitude</th>\n",
       "      <th>longitude</th>\n",
       "      <th>day_of_week</th>\n",
       "      <th>sev_injry</th>\n",
       "      <th>mild_injry_cnt</th>\n",
       "      <th>unkn_injry_cnt</th>\n",
       "      <th>death_cnt</th>\n",
       "      <th>victims</th>\n",
       "      <th>hour</th>\n",
       "      <th>date</th>\n",
       "      <th>time_of_day</th>\n",
       "    </tr>\n",
       "  </thead>\n",
       "  <tbody>\n",
       "    <tr>\n",
       "      <td>0</td>\n",
       "      <td>14207787</td>\n",
       "      <td>1</td>\n",
       "      <td>29.400395</td>\n",
       "      <td>-98.530539</td>\n",
       "      <td>TUE</td>\n",
       "      <td>0</td>\n",
       "      <td>0</td>\n",
       "      <td>0</td>\n",
       "      <td>0</td>\n",
       "      <td>0</td>\n",
       "      <td>10</td>\n",
       "      <td>2016-01-05 10:00:00</td>\n",
       "      <td>morning</td>\n",
       "    </tr>\n",
       "    <tr>\n",
       "      <td>1</td>\n",
       "      <td>14259624</td>\n",
       "      <td>1</td>\n",
       "      <td>32.803694</td>\n",
       "      <td>-98.087942</td>\n",
       "      <td>SAT</td>\n",
       "      <td>0</td>\n",
       "      <td>0</td>\n",
       "      <td>0</td>\n",
       "      <td>0</td>\n",
       "      <td>0</td>\n",
       "      <td>16</td>\n",
       "      <td>2016-01-30 16:00:00</td>\n",
       "      <td>afternoon</td>\n",
       "    </tr>\n",
       "    <tr>\n",
       "      <td>2</td>\n",
       "      <td>14768622</td>\n",
       "      <td>1</td>\n",
       "      <td>30.180826</td>\n",
       "      <td>-95.196432</td>\n",
       "      <td>TUE</td>\n",
       "      <td>0</td>\n",
       "      <td>0</td>\n",
       "      <td>0</td>\n",
       "      <td>0</td>\n",
       "      <td>0</td>\n",
       "      <td>23</td>\n",
       "      <td>2016-02-09 23:00:00</td>\n",
       "      <td>night</td>\n",
       "    </tr>\n",
       "    <tr>\n",
       "      <td>3</td>\n",
       "      <td>14838618</td>\n",
       "      <td>2</td>\n",
       "      <td>32.605167</td>\n",
       "      <td>-96.822952</td>\n",
       "      <td>FRI</td>\n",
       "      <td>0</td>\n",
       "      <td>0</td>\n",
       "      <td>0</td>\n",
       "      <td>0</td>\n",
       "      <td>0</td>\n",
       "      <td>0</td>\n",
       "      <td>2016-01-01 00:00:00</td>\n",
       "      <td>night</td>\n",
       "    </tr>\n",
       "    <tr>\n",
       "      <td>4</td>\n",
       "      <td>14838631</td>\n",
       "      <td>1</td>\n",
       "      <td>30.423768</td>\n",
       "      <td>-95.479669</td>\n",
       "      <td>FRI</td>\n",
       "      <td>0</td>\n",
       "      <td>0</td>\n",
       "      <td>1</td>\n",
       "      <td>0</td>\n",
       "      <td>1</td>\n",
       "      <td>0</td>\n",
       "      <td>2016-01-01 00:00:00</td>\n",
       "      <td>night</td>\n",
       "    </tr>\n",
       "  </tbody>\n",
       "</table>\n",
       "</div>"
      ],
      "text/plain": [
       "   crash_id  num_vehic_inv   latitude  longitude day_of_week  sev_injry  \\\n",
       "0  14207787              1  29.400395 -98.530539         TUE          0   \n",
       "1  14259624              1  32.803694 -98.087942         SAT          0   \n",
       "2  14768622              1  30.180826 -95.196432         TUE          0   \n",
       "3  14838618              2  32.605167 -96.822952         FRI          0   \n",
       "4  14838631              1  30.423768 -95.479669         FRI          0   \n",
       "\n",
       "   mild_injry_cnt  unkn_injry_cnt  death_cnt  victims  hour  \\\n",
       "0               0               0          0        0    10   \n",
       "1               0               0          0        0    16   \n",
       "2               0               0          0        0    23   \n",
       "3               0               0          0        0     0   \n",
       "4               0               1          0        1     0   \n",
       "\n",
       "                 date time_of_day  \n",
       "0 2016-01-05 10:00:00     morning  \n",
       "1 2016-01-30 16:00:00   afternoon  \n",
       "2 2016-02-09 23:00:00       night  \n",
       "3 2016-01-01 00:00:00       night  \n",
       "4 2016-01-01 00:00:00       night  "
      ]
     },
     "execution_count": 23,
     "metadata": {},
     "output_type": "execute_result"
    }
   ],
   "source": [
    "df.head()"
   ]
  },
  {
   "cell_type": "markdown",
   "metadata": {},
   "source": [
    "The final cleaning step consists of removing duplicated entries(if there present are) from the data frame. This help to avoid using the same car accident ."
   ]
  },
  {
   "cell_type": "code",
   "execution_count": 24,
   "metadata": {},
   "outputs": [
    {
     "data": {
      "text/plain": [
       "0"
      ]
     },
     "execution_count": 24,
     "metadata": {},
     "output_type": "execute_result"
    }
   ],
   "source": [
    "df.duplicated().sum()"
   ]
  },
  {
   "cell_type": "markdown",
   "metadata": {},
   "source": [
    "### Fantastic!!! No duplicated entries!!!"
   ]
  },
  {
   "cell_type": "code",
   "execution_count": 25,
   "metadata": {},
   "outputs": [
    {
     "data": {
      "text/plain": [
       "(578193, 13)"
      ]
     },
     "execution_count": 25,
     "metadata": {},
     "output_type": "execute_result"
    }
   ],
   "source": [
    "df.shape # shape the dataframe\n",
    "\n",
    "# There are 13 columns left."
   ]
  },
  {
   "cell_type": "markdown",
   "metadata": {},
   "source": [
    "As shown above, the dataframe contains 13 columns. There were 171 in the original dataset.\n",
    "Let set crash_id as the index of our dataframe. "
   ]
  },
  {
   "cell_type": "code",
   "execution_count": 26,
   "metadata": {},
   "outputs": [
    {
     "data": {
      "text/plain": [
       "14207787"
      ]
     },
     "execution_count": 26,
     "metadata": {},
     "output_type": "execute_result"
    }
   ],
   "source": [
    "df.crash_id[0]\n",
    "\n",
    "#'14207787'\n",
    "\n"
   ]
  },
  {
   "cell_type": "code",
   "execution_count": 27,
   "metadata": {},
   "outputs": [
    {
     "data": {
      "text/plain": [
       "num_vehic_inv                       1\n",
       "latitude                      29.4004\n",
       "longitude                    -98.5305\n",
       "day_of_week                       TUE\n",
       "sev_injry                           0\n",
       "mild_injry_cnt                      0\n",
       "unkn_injry_cnt                      0\n",
       "death_cnt                           0\n",
       "victims                             0\n",
       "hour                               10\n",
       "date              2016-01-05 10:00:00\n",
       "time_of_day                   morning\n",
       "Name: 14207787, dtype: object"
      ]
     },
     "execution_count": 27,
     "metadata": {},
     "output_type": "execute_result"
    }
   ],
   "source": [
    "df.set_index('crash_id', inplace=True)\n",
    "\n",
    "#Hence we can access information about an accident simply by using its crash_id directly.\n",
    "\n",
    "df.loc[14207787]"
   ]
  },
  {
   "cell_type": "markdown",
   "metadata": {},
   "source": [
    "### Done with the data cleaning!!!"
   ]
  },
  {
   "cell_type": "markdown",
   "metadata": {},
   "source": [
    "## the next step will be about analysis and conclusions from our data"
   ]
  },
  {
   "cell_type": "markdown",
   "metadata": {},
   "source": [
    "# Time Analysis"
   ]
  },
  {
   "cell_type": "markdown",
   "metadata": {},
   "source": [
    "## How many accidents were reported by local police in Texas in 2016?"
   ]
  },
  {
   "cell_type": "markdown",
   "metadata": {},
   "source": [
    "By using the pandas.Dataframe.shape attribute, we can generate the total number of accidents reported in Texas. This is possible because each entry o the our data represent a different car accident."
   ]
  },
  {
   "cell_type": "code",
   "execution_count": 28,
   "metadata": {},
   "outputs": [
    {
     "name": "stdout",
     "output_type": "stream",
     "text": [
      "Total number of accidents in Texas in 2016 :578193\n"
     ]
    }
   ],
   "source": [
    "\n",
    "print('Total number of accidents in Texas in 2016 :{}'.format(df.shape[0])) # Returns tuple of shape (Rows, columns) of dataframe/series"
   ]
  },
  {
   "cell_type": "markdown",
   "metadata": {},
   "source": [
    "630720 accidents were registered by local police in the State of Texas in 2016"
   ]
  },
  {
   "cell_type": "markdown",
   "metadata": {},
   "source": [
    "## Month-to-month report or distribution of car accidents per month"
   ]
  },
  {
   "cell_type": "markdown",
   "metadata": {},
   "source": [
    "We will use the groupby function from pandas dataframe. A groupby operation involves some combination of splitting the object, applying a function, and combining the results. This can be used to group large amounts of data and compute operations on these groups.\n",
    "in ours for instance, we start first by grouping months and then we calculate the number of accident in each month."
   ]
  },
  {
   "cell_type": "code",
   "execution_count": 29,
   "metadata": {},
   "outputs": [
    {
     "data": {
      "text/plain": [
       "January      44830\n",
       "February     46842\n",
       "March        50410\n",
       "April        48790\n",
       "May          49760\n",
       "June         46657\n",
       "July         45040\n",
       "August       48837\n",
       "September    48565\n",
       "October      50826\n",
       "November     48640\n",
       "December     48996\n",
       "Name: date, dtype: int64"
      ]
     },
     "execution_count": 29,
     "metadata": {},
     "output_type": "execute_result"
    }
   ],
   "source": [
    "# Number of accident per month\n",
    "\n",
    "accidentsPerMonth = df.groupby(df['date'].dt.month).count().date\n",
    "accidentsPerMonth.index=[calendar.month_name[x] for x in range(1,13)]\n",
    "\n",
    "accidentsPerMonth"
   ]
  },
  {
   "cell_type": "markdown",
   "metadata": {},
   "source": [
    "October has the highest month of car accidents(55606) and January, the lowest(48587).\n",
    "\n",
    "Let visualize this so we can interpret the result!"
   ]
  },
  {
   "cell_type": "code",
   "execution_count": 30,
   "metadata": {
    "scrolled": true
   },
   "outputs": [
    {
     "data": {
      "image/png": "[encoded data removed]",
      "text/plain": [
       "<Figure size 1080x576 with 1 Axes>"
      ]
     },
     "metadata": {},
     "output_type": "display_data"
    }
   ],
   "source": [
    "% matplotlib inline\n",
    "\n",
    "plt.style.use('ggplot')\n",
    "\n",
    "\n",
    "\n",
    "# plot accidents per month\n",
    "\n",
    "accidentsPerMonth.plot(kind='bar',figsize=(15,8), color='cyan', alpha=0.7)\n",
    "\n",
    "\n",
    "\n",
    "# title and x,y labels\n",
    "\n",
    "plt.title('Car Accidents in Texas in 2016', fontsize=20)\n",
    "\n",
    "plt.xlabel('Month',fontsize=16)\n",
    "\n",
    "plt.ylabel('Number of accidents',fontsize=16);"
   ]
  },
  {
   "cell_type": "markdown",
   "metadata": {},
   "source": [
    "As we observe, less accidents happenned in January and July. The reason might that less people drive durring these months. In January, most of workers and students return to the office and school respectively the second week for the most. In July, people are on vacation."
   ]
  },
  {
   "cell_type": "markdown",
   "metadata": {},
   "source": [
    "### Per Day Of the Week"
   ]
  },
  {
   "cell_type": "markdown",
   "metadata": {},
   "source": [
    "Same process as we did with months. We are going to use groupby and bar plot as well"
   ]
  },
  {
   "cell_type": "code",
   "execution_count": 31,
   "metadata": {},
   "outputs": [
    {
     "data": {
      "image/png": "[encoded data removed]",
      "text/plain": [
       "<Figure size 1080x576 with 1 Axes>"
      ]
     },
     "metadata": {},
     "output_type": "display_data"
    }
   ],
   "source": [
    "# Number of accident per day of the week\n",
    "\n",
    "accidents_day = df.groupby(df['date'].dt.dayofweek).count().date\n",
    "\n",
    "\n",
    "\n",
    "# Replace the day integers by day names.\n",
    "\n",
    "accidents_day.index=[calendar.day_name[x] for x in range(0,7)]\n",
    "\n",
    "\n",
    "\n",
    "# plot accidents per day\n",
    "\n",
    "accidents_day.plot(kind='bar',figsize=(15,8), color='indigo', alpha=0.7)\n",
    "\n",
    "\n",
    "\n",
    "# title and x,y labels\n",
    "\n",
    "plt.title('Car Accidents in Texas in 2016', fontsize=20)\n",
    "\n",
    "plt.xlabel('Day of the week',fontsize=15)\n",
    "\n",
    "plt.ylabel('Number of accidents',fontsize=15);"
   ]
  },
  {
   "cell_type": "markdown",
   "metadata": {},
   "source": [
    "The number of car accidents decrease on weekends since people spend time at home with their families and use rideshare to hang out with friends . The average of car accidents is above 84 000 on weekdays with friday, presenting the highest day of the week for car accidents. "
   ]
  },
  {
   "cell_type": "markdown",
   "metadata": {},
   "source": [
    "Let draw a plot that will show the number of accident during each day of the year. As we see from the one above, Friday should be the day where occured the most accident and Sunday the inverse. "
   ]
  },
  {
   "cell_type": "code",
   "execution_count": 32,
   "metadata": {},
   "outputs": [
    {
     "data": {
      "text/plain": [
       "<matplotlib.legend.Legend at 0x1e452cbb508>"
      ]
     },
     "execution_count": 32,
     "metadata": {},
     "output_type": "execute_result"
    },
    {
     "data": {
      "image/png": "[encoded data removed]",
      "text/plain": [
       "<Figure size 1080x576 with 1 Axes>"
      ]
     },
     "metadata": {},
     "output_type": "display_data"
    }
   ],
   "source": [
    "accidents = df.groupby(df['date'].dt.date).count().date\n",
    "\n",
    "\n",
    "\n",
    "accidents.plot(figsize=(15,8), color='orange')\n",
    "\n",
    "\n",
    "\n",
    "# sunday accidents\n",
    "\n",
    "sundays = df.groupby(df[df['date'].dt.dayofweek==6].date.dt.date).count().date\n",
    "\n",
    "plt.scatter(sundays.index, sundays, color='green', label='sunday')\n",
    "\n",
    "\n",
    "# monday accidents\n",
    "\n",
    "monday = df.groupby(df[df['date'].dt.dayofweek==0].date.dt.date).count().date\n",
    "\n",
    "plt.scatter(monday.index, monday, color='red', label='monday')\n",
    "\n",
    "\n",
    "# tuesday accidents\n",
    "\n",
    "tuesday = df.groupby(df[df['date'].dt.dayofweek==1].date.dt.date).count().date\n",
    "\n",
    "plt.scatter(tuesday.index, tuesday, color='yellow', label='tuesday')\n",
    "\n",
    "\n",
    "# wednesday accidents\n",
    "\n",
    "wednesday = df.groupby(df[df['date'].dt.dayofweek==2].date.dt.date).count().date\n",
    "\n",
    "plt.scatter(wednesday.index, wednesday, color='blue', label='wednesday')\n",
    "\n",
    "\n",
    "# thursday accidents\n",
    "\n",
    "thursday = df.groupby(df[df['date'].dt.dayofweek==3].date.dt.date).count().date\n",
    "\n",
    "plt.scatter(thursday.index, thursday, color='black', label='thursday')\n",
    "\n",
    "\n",
    "# friday accidents\n",
    "\n",
    "friday = df.groupby(df[df['date'].dt.dayofweek==4].date.dt.date).count().date\n",
    "\n",
    "plt.scatter(friday.index, friday, color='purple', label='friday')\n",
    "\n",
    "\n",
    "# saturday accidents\n",
    "\n",
    "saturday = df.groupby(df[df['date'].dt.dayofweek==5].date.dt.date).count().date\n",
    "\n",
    "plt.scatter(saturday.index, saturday, color='cyan', label='saturday')\n",
    "\n",
    "\n",
    "# Title, x label and y label\n",
    "\n",
    "plt.title('Accidents in Texas in 2016', fontsize=20)\n",
    "\n",
    "plt.xlabel('Date',fontsize=16)\n",
    "\n",
    "plt.ylabel('Number of accidents per day',fontsize=16);\n",
    "\n",
    "plt.legend()"
   ]
  },
  {
   "cell_type": "code",
   "execution_count": null,
   "metadata": {},
   "outputs": [],
   "source": []
  },
  {
   "cell_type": "markdown",
   "metadata": {},
   "source": [
    "Most of the bottom represent Sunday accident in green. In opposite, the top represents Friday(purple) for the most accidents happens every day. We see that there are between 1000 and 2500 accidents per day in Texas"
   ]
  },
  {
   "cell_type": "markdown",
   "metadata": {},
   "source": [
    "### Distribution Per Hour"
   ]
  },
  {
   "cell_type": "markdown",
   "metadata": {},
   "source": [
    "As we did with days of the week, this time, we are going to plot the distribution of car accidents according to time."
   ]
  },
  {
   "cell_type": "code",
   "execution_count": 33,
   "metadata": {},
   "outputs": [
    {
     "data": {
      "image/png": "[encoded data removed]",
      "text/plain": [
       "<Figure size 1080x576 with 1 Axes>"
      ]
     },
     "metadata": {},
     "output_type": "display_data"
    }
   ],
   "source": [
    "# Number of accident per hour\n",
    "\n",
    "accidents_hour = df.groupby(df['date'].dt.hour).count().date\n",
    "\n",
    "\n",
    "\n",
    "# plot accidents per hour\n",
    "\n",
    "accidents_hour.plot(kind='bar',figsize=(15,8), color='indigo', alpha=0.5)\n",
    "\n",
    "\n",
    "\n",
    "# title and x,y labels\n",
    "\n",
    "plt.title('Accidents in Texas in 2016', fontsize=23)\n",
    "\n",
    "plt.xlabel('Hour',fontsize=18)\n",
    "\n",
    "plt.ylabel('Number of car accidents',fontsize=18);"
   ]
  },
  {
   "cell_type": "markdown",
   "metadata": {},
   "source": [
    "As we observe the plot, accidents happen early in the morning between 7 and 8 am and in the afternoon between noon and 6pm. 5 pm is where we the most accidents due to people are in rush to go home from work."
   ]
  },
  {
   "cell_type": "markdown",
   "metadata": {},
   "source": [
    "Let see how it shows per time of the day. From the above plot, Afternoon represents the most part of the day where accidents happenned in Texas in 2016"
   ]
  },
  {
   "cell_type": "code",
   "execution_count": 34,
   "metadata": {},
   "outputs": [
    {
     "data": {
      "text/html": [
       "<div>\n",
       "<style scoped>\n",
       "    .dataframe tbody tr th:only-of-type {\n",
       "        vertical-align: middle;\n",
       "    }\n",
       "\n",
       "    .dataframe tbody tr th {\n",
       "        vertical-align: top;\n",
       "    }\n",
       "\n",
       "    .dataframe thead th {\n",
       "        text-align: right;\n",
       "    }\n",
       "</style>\n",
       "<table border=\"1\" class=\"dataframe\">\n",
       "  <thead>\n",
       "    <tr style=\"text-align: right;\">\n",
       "      <th></th>\n",
       "      <th>num_vehic_inv</th>\n",
       "      <th>latitude</th>\n",
       "      <th>longitude</th>\n",
       "      <th>day_of_week</th>\n",
       "      <th>sev_injry</th>\n",
       "      <th>mild_injry_cnt</th>\n",
       "      <th>unkn_injry_cnt</th>\n",
       "      <th>death_cnt</th>\n",
       "      <th>victims</th>\n",
       "      <th>hour</th>\n",
       "      <th>date</th>\n",
       "    </tr>\n",
       "    <tr>\n",
       "      <th>time_of_day</th>\n",
       "      <th></th>\n",
       "      <th></th>\n",
       "      <th></th>\n",
       "      <th></th>\n",
       "      <th></th>\n",
       "      <th></th>\n",
       "      <th></th>\n",
       "      <th></th>\n",
       "      <th></th>\n",
       "      <th></th>\n",
       "      <th></th>\n",
       "    </tr>\n",
       "  </thead>\n",
       "  <tbody>\n",
       "    <tr>\n",
       "      <td>afternoon</td>\n",
       "      <td>185902</td>\n",
       "      <td>185902</td>\n",
       "      <td>185902</td>\n",
       "      <td>185902</td>\n",
       "      <td>185902</td>\n",
       "      <td>185902</td>\n",
       "      <td>185902</td>\n",
       "      <td>185902</td>\n",
       "      <td>185902</td>\n",
       "      <td>185902</td>\n",
       "      <td>185902</td>\n",
       "    </tr>\n",
       "    <tr>\n",
       "      <td>evening</td>\n",
       "      <td>115784</td>\n",
       "      <td>115784</td>\n",
       "      <td>115784</td>\n",
       "      <td>115784</td>\n",
       "      <td>115784</td>\n",
       "      <td>115784</td>\n",
       "      <td>115784</td>\n",
       "      <td>115784</td>\n",
       "      <td>115784</td>\n",
       "      <td>115784</td>\n",
       "      <td>115784</td>\n",
       "    </tr>\n",
       "    <tr>\n",
       "      <td>morning</td>\n",
       "      <td>158977</td>\n",
       "      <td>158977</td>\n",
       "      <td>158977</td>\n",
       "      <td>158977</td>\n",
       "      <td>158977</td>\n",
       "      <td>158977</td>\n",
       "      <td>158977</td>\n",
       "      <td>158977</td>\n",
       "      <td>158977</td>\n",
       "      <td>158977</td>\n",
       "      <td>158977</td>\n",
       "    </tr>\n",
       "    <tr>\n",
       "      <td>night</td>\n",
       "      <td>117530</td>\n",
       "      <td>117530</td>\n",
       "      <td>117530</td>\n",
       "      <td>117530</td>\n",
       "      <td>117530</td>\n",
       "      <td>117530</td>\n",
       "      <td>117530</td>\n",
       "      <td>117530</td>\n",
       "      <td>117530</td>\n",
       "      <td>117530</td>\n",
       "      <td>117530</td>\n",
       "    </tr>\n",
       "  </tbody>\n",
       "</table>\n",
       "</div>"
      ],
      "text/plain": [
       "             num_vehic_inv  latitude  longitude  day_of_week  sev_injry  \\\n",
       "time_of_day                                                               \n",
       "afternoon           185902    185902     185902       185902     185902   \n",
       "evening             115784    115784     115784       115784     115784   \n",
       "morning             158977    158977     158977       158977     158977   \n",
       "night               117530    117530     117530       117530     117530   \n",
       "\n",
       "             mild_injry_cnt  unkn_injry_cnt  death_cnt  victims    hour  \\\n",
       "time_of_day                                                               \n",
       "afternoon            185902          185902     185902   185902  185902   \n",
       "evening              115784          115784     115784   115784  115784   \n",
       "morning              158977          158977     158977   158977  158977   \n",
       "night                117530          117530     117530   117530  117530   \n",
       "\n",
       "               date  \n",
       "time_of_day          \n",
       "afternoon    185902  \n",
       "evening      115784  \n",
       "morning      158977  \n",
       "night        117530  "
      ]
     },
     "execution_count": 34,
     "metadata": {},
     "output_type": "execute_result"
    }
   ],
   "source": [
    "# list the number of accident per time of the day\n",
    "df.groupby('time_of_day').count() \n",
    "\n",
    "# There were 205 317 accidents reported in the afternoon"
   ]
  },
  {
   "cell_type": "code",
   "execution_count": 35,
   "metadata": {},
   "outputs": [
    {
     "data": {
      "text/plain": [
       "afternoon    32.152240\n",
       "morning      27.495490\n",
       "night        20.327123\n",
       "evening      20.025147\n",
       "Name: time_of_day, dtype: float64"
      ]
     },
     "execution_count": 35,
     "metadata": {},
     "output_type": "execute_result"
    }
   ],
   "source": [
    "#Let see the percentage of accidents per time of the day\n",
    "\n",
    "# using value_counts with normalize=True\n",
    "df['time_of_day'].value_counts(normalize=True) * 100 \n",
    "\n",
    "# 32.5% of accidents occured in the afternoon(mojority)\n",
    "# 19.9% of accidents occured in the evening(least value)"
   ]
  },
  {
   "cell_type": "markdown",
   "metadata": {},
   "source": [
    "Let visualize them in the pie plot using matplotlib\n",
    "slices_time_of_day contains the hour values while activities contains label. \n",
    "startangle actually set the starting angle of pie. \n",
    "Let see how it makes a difference."
   ]
  },
  {
   "cell_type": "code",
   "execution_count": 36,
   "metadata": {},
   "outputs": [
    {
     "data": {
      "image/png": "[encoded data removed]",
      "text/plain": [
       "<Figure size 432x288 with 1 Axes>"
      ]
     },
     "metadata": {},
     "output_type": "display_data"
    }
   ],
   "source": [
    "slices_time_of_day = [32.6,27.2,20.3,19.9]\n",
    "activities         = ['Afternoon', 'Morning', 'Night', 'Evening']\n",
    "colors              = ['g','r','y','b']\n",
    "\n",
    "plt.pie(slices_time_of_day, labels=activities, colors=colors, \n",
    "startangle=90, autopct='%.1f%%')\n",
    "plt.show()"
   ]
  },
  {
   "cell_type": "markdown",
   "metadata": {},
   "source": [
    "### Mixed Distribution of car accidents  Days of the week and Hours"
   ]
  },
  {
   "cell_type": "markdown",
   "metadata": {},
   "source": [
    "Now we will analyse the number of accidents per day of the week and hour by using bar plot."
   ]
  },
  {
   "cell_type": "code",
   "execution_count": 37,
   "metadata": {},
   "outputs": [
    {
     "data": {
      "image/png": "[encoded data removed]",
      "text/plain": [
       "<Figure size 1080x1800 with 1 Axes>"
      ]
     },
     "metadata": {},
     "output_type": "display_data"
    }
   ],
   "source": [
    "# Number of accidents per hour and day\n",
    "\n",
    "accidentsPerHour_day = df.groupby([df['date'].dt.hour.rename('hour'),df['date'].dt.dayofweek.rename('day')]).count().date\n",
    "\n",
    "\n",
    "\n",
    "accidentsPerHour_day.unstack().plot(kind='barh', figsize=(15,25))\n",
    "\n",
    "\n",
    "\n",
    "# title and x,y labels\n",
    "\n",
    "plt.legend(labels=[calendar.day_name[x] for x in range(0,7)],fontsize=15)\n",
    "\n",
    "plt.title('Car Accidents in Texas in 2016',fontsize=22)\n",
    "\n",
    "plt.xlabel('Number of Car accidents',fontsize=15)\n",
    "\n",
    "plt.ylabel('Hours',fontsize=15);"
   ]
  },
  {
   "cell_type": "markdown",
   "metadata": {},
   "source": [
    "As we can observe, the number of accidents on at night on weekends is greater than the number happening during the weekdays. By contrast, we see more accidents bettween mornings and afternoon on the weekdays that at the weekends."
   ]
  },
  {
   "cell_type": "markdown",
   "metadata": {},
   "source": [
    "### Time Analysis : Conclusion"
   ]
  },
  {
   "cell_type": "markdown",
   "metadata": {},
   "source": [
    "1- 32.6% of accidents happened in afternoon which represents the highest part of the day.\n",
    "\n",
    "2- October has the highest month of car accidents(55606) and January, the lowest(48587).\n",
    "\n",
    "3- The number of car accidents decrease of weekends\n",
    "\n",
    "4- Most of the accidents happen on weekends at night"
   ]
  },
  {
   "cell_type": "markdown",
   "metadata": {},
   "source": [
    "## Type Analysis "
   ]
  },
  {
   "cell_type": "markdown",
   "metadata": {},
   "source": [
    "The data frame has information about injuries. It shows the number of victims suffered from all type of injuries in each car accident. First we will count all type of injuries then represent their percentage using a pie plot"
   ]
  },
  {
   "cell_type": "code",
   "execution_count": 270,
   "metadata": {},
   "outputs": [
    {
     "data": {
      "text/plain": [
       "mild_injry_cnt    164012\n",
       "sev_injry          17422\n",
       "unkn_injry_cnt     92707\n",
       "dtype: int64"
      ]
     },
     "execution_count": 270,
     "metadata": {},
     "output_type": "execute_result"
    }
   ],
   "source": [
    "#sum of all type of inhuries\n",
    "injuries = df[['mild_injry_cnt','sev_injry','unkn_injry_cnt']].sum()\n",
    "injuries"
   ]
  },
  {
   "cell_type": "code",
   "execution_count": 271,
   "metadata": {},
   "outputs": [
    {
     "data": {
      "text/plain": [
       "Text(0, 0.5, '')"
      ]
     },
     "execution_count": 271,
     "metadata": {},
     "output_type": "execute_result"
    },
    {
     "data": {
      "image/png": "[encoded data removed]",
      "text/plain": [
       "<Figure size 504x504 with 1 Axes>"
      ]
     },
     "metadata": {},
     "output_type": "display_data"
    }
   ],
   "source": [
    "# plotting injuries per ratio\n",
    "injuries.plot(kind='pie',figsize=(7,7), colors=['yellow','red','orange'], labels=None, autopct='%1.1f%%', fontsize=20)\n",
    "\n",
    "\n",
    "# label and title\n",
    "plt.legend(labels=['mild_injry_cnt','sev_injry','unkn_injry_cnt'])\n",
    "plt.title('Car Injuries in 2016', fontsize = 20)\n",
    "plt.ylabel('')"
   ]
  },
  {
   "cell_type": "markdown",
   "metadata": {},
   "source": [
    "For the  next step we will consider all type of injuy but non_injry_cnt since most of car accidents did not have injuries. We will analyse per time, date where other injuries are more frequent. "
   ]
  },
  {
   "cell_type": "code",
   "execution_count": 272,
   "metadata": {},
   "outputs": [
    {
     "data": {
      "image/png": "[encoded data removed]",
      "text/plain": [
       "<Figure size 864x504 with 1 Axes>"
      ]
     },
     "metadata": {},
     "output_type": "display_data"
    }
   ],
   "source": [
    "# Number of serious injuries per day of the week\n",
    "\n",
    "severe_injury = df[df['sev_injry']!=0].groupby(df['date'].dt.dayofweek).sum().sev_injry\n",
    "unknow_injury = df[df['unkn_injry_cnt']!=0].groupby(df['date'].dt.dayofweek).sum().unkn_injry_cnt\n",
    "mild_accident = df[df['mild_injry_cnt']!=0].groupby(df['date'].dt.dayofweek).sum().mild_injry_cnt\n",
    "\n",
    "# looking for their ratio to get the percentage of each type per day of the week\n",
    "\n",
    "severe_rate = severe_injury/severe_injury.sum()\n",
    "unknow_rate = unknow_injury/unknow_injury.sum()\n",
    "mild_rate = mild_accident/mild_accident.sum()\n",
    "\n",
    "# let combine them together as a datafrane \n",
    "\n",
    "rates = pd.DataFrame({'Severe Injuries':severe_rate,'Unknown Injuries':unknow_rate,'Mild Injuries':mild_rate})\n",
    "rates.plot(kind='bar',figsize=(12,7),color=['red','orange','yellow'],alpha=0.5)\n",
    "\n",
    "# Label the plot\n",
    "\n",
    "plt.title('Rate of Injuries by Days of the Week',fontsize=22)\n",
    "plt.xlabel('Day of the Week', fontsize=15)\n",
    "plt.ylabel('Percentage',fontsize=15)\n",
    "plt.xticks(np.arange(7),[calendar.day_name[x] for x in range(0,7)]);"
   ]
  },
  {
   "cell_type": "markdown",
   "metadata": {},
   "source": [
    "Let plot the percentage using hour"
   ]
  },
  {
   "cell_type": "code",
   "execution_count": 273,
   "metadata": {},
   "outputs": [
    {
     "data": {
      "text/plain": [
       "crash_id\n",
       "14207787    10\n",
       "14259624    16\n",
       "14768622    23\n",
       "14838618     0\n",
       "14838631     0\n",
       "            ..\n",
       "15725757     1\n",
       "15732878    20\n",
       "15732880    12\n",
       "15732920    10\n",
       "15737489    12\n",
       "Name: hour, Length: 578193, dtype: int64"
      ]
     },
     "execution_count": 273,
     "metadata": {},
     "output_type": "execute_result"
    }
   ],
   "source": [
    "df['hour']"
   ]
  },
  {
   "cell_type": "code",
   "execution_count": 280,
   "metadata": {},
   "outputs": [],
   "source": [
    "severe_injury = df[df['sev_injry']!=0].groupby(df['date'].dt.hour).sum().sev_injry\n",
    "unknow_injury = df[df['unkn_injry_cnt']!=0].groupby(df['date'].dt.hour).sum().unkn_injry_cnt\n",
    "mild_accident = df[df['mild_injry_cnt']!=0].groupby(df['date'].dt.hour).sum().mild_injry_cnt\n"
   ]
  },
  {
   "cell_type": "code",
   "execution_count": 281,
   "metadata": {},
   "outputs": [],
   "source": [
    "severe_rate = severe_injury/severe_injury.sum()\n",
    "unknow_rate = unknow_injury/unknow_injury.sum()\n",
    "mild_rate = mild_accident/mild_accident.sum()\n"
   ]
  },
  {
   "cell_type": "code",
   "execution_count": 282,
   "metadata": {},
   "outputs": [
    {
     "data": {
      "text/plain": [
       "<matplotlib.axes._subplots.AxesSubplot at 0x1bf6fe24ec8>"
      ]
     },
     "execution_count": 282,
     "metadata": {},
     "output_type": "execute_result"
    },
    {
     "data": {
      "image/png": "[encoded data removed]",
      "text/plain": [
       "<Figure size 864x504 with 1 Axes>"
      ]
     },
     "metadata": {},
     "output_type": "display_data"
    }
   ],
   "source": [
    "rates = pd.DataFrame({'Severe Injuries':severe_rate,'Unknown Injuries':unknow_rate,'Mild Injuries':mild_rate})\n",
    "rates.plot(kind='bar',figsize=(12,7),color=['red','orange','yellow'],alpha=0.5)\n"
   ]
  },
  {
   "cell_type": "code",
   "execution_count": 284,
   "metadata": {},
   "outputs": [
    {
     "data": {
      "text/plain": [
       "Text(0, 0.5, 'Percentage')"
      ]
     },
     "execution_count": 284,
     "metadata": {},
     "output_type": "execute_result"
    },
    {
     "data": {
      "image/png": "[encoded data removed]",
      "text/plain": [
       "<Figure size 864x504 with 1 Axes>"
      ]
     },
     "metadata": {},
     "output_type": "display_data"
    }
   ],
   "source": [
    "# Number of serious injuries per day of the week\n",
    "#df.groupby([df['date'].dt.hour.rename('hour'),df['date'].dt.dayofweek.rename('day')]).count().date\n",
    "#df['hour'] = pd.DatetimeIndex(df['crash_time']).hour \n",
    "severe_injury = df[df['sev_injry']!=0].groupby(df['date'].dt.hour).sum().sev_injry\n",
    "unknow_injury = df[df['unkn_injry_cnt']!=0].groupby(df['date'].dt.hour).sum().unkn_injry_cnt\n",
    "mild_accident = df[df['mild_injry_cnt']!=0].groupby(df['date'].dt.hour).sum().mild_injry_cnt\n",
    "\n",
    "\n",
    "# looking for their ratio to get the percentage of each type per day of the week\n",
    "\n",
    "severe_rate = severe_injury/severe_injury.sum()\n",
    "unknow_rate = unknow_injury/unknow_injury.sum()\n",
    "mild_rate = mild_accident/mild_accident.sum()\n",
    "\n",
    "# let combine them together as a datafrane \n",
    "\n",
    "rates = pd.DataFrame({'Severe Injuries':severe_rate,'Unknown Injuries':unknow_rate,'Mild Injuries':mild_rate})\n",
    "rates.plot(kind='bar',figsize=(12,7),color=['red','orange','yellow'],alpha=0.5)\n",
    "\n",
    "# Label the plot\n",
    "\n",
    "plt.title('Rate of Injuries by Days of the Week',fontsize=22)\n",
    "plt.xlabel('Hour', fontsize=15)\n",
    "plt.ylabel('Percentage',fontsize=15)\n",
    "#plt.xticks(np.arange(24),[calendar.day_name[x] for x in range(0,23)]);"
   ]
  },
  {
   "cell_type": "markdown",
   "metadata": {},
   "source": [
    "Onservation note"
   ]
  },
  {
   "cell_type": "markdown",
   "metadata": {},
   "source": [
    "## Vehicles involved"
   ]
  },
  {
   "cell_type": "markdown",
   "metadata": {},
   "source": [
    "The data we are analyzing contains information related to:\n",
    "\n",
    "the date of the accident, \n",
    "\n",
    "the type of accident, \n",
    "\n",
    "the location of the accident. \n",
    "\n",
    "Regarding the type of accident the data frame includes information such as the number of victims, the number vehicles involved in the accident, and the type of injuries . As before, we can examine the distribution of all those variables using bar plots."
   ]
  },
  {
   "cell_type": "code",
   "execution_count": 214,
   "metadata": {},
   "outputs": [
    {
     "data": {
      "image/png": "[encoded data removed]",
      "text/plain": [
       "<Figure size 864x504 with 1 Axes>"
      ]
     },
     "metadata": {},
     "output_type": "display_data"
    }
   ],
   "source": [
    "# Compute the number of accidents according to the number of vehicles involved\n",
    "vehicles_involved = df.num_vehic_inv.value_counts()\n",
    "\n",
    "# There is no car accident with 12 vehicles involved. We include 0 in our Serie for better visualization\n",
    "vehicles_involved[12]=0\n",
    "\n",
    "vehicles_involved.sort_index(inplace=True)\n",
    "\n",
    "# Plot number of car accidents according to the number of vehicles involved\n",
    "vehicles_involved.plot(kind='bar',figsize=(12,7), color='darkblue', alpha=0.5)\n",
    "\n",
    "# Title and x,y labels\n",
    "plt.title('Accidents in Texas in 2016',fontsize=20)\n",
    "plt.xlabel('Vehicles involved',fontsize=16)\n",
    "plt.ylabel('Number of accidents',fontsize=16);\n",
    "\n",
    "# Print a label above each bar indicating the number of accidents\n",
    "for index in vehicles_involved.index:\n",
    "    plt.text(x=index,y=vehicles_involved.loc[index],s=str(vehicles_involved.loc[index]),horizontalalignment='center')\n"
   ]
  },
  {
   "cell_type": "markdown",
   "metadata": {},
   "source": [
    "Maps is the best way to analyse spacial data. We can generate  a map of Texas by creating a Folium Map object using its longitude and latitude"
   ]
  },
  {
   "cell_type": "code",
   "execution_count": 223,
   "metadata": {},
   "outputs": [
    {
     "data": {
      "text/html": [
       "<div style=\"width:100%;\"><div style=\"position:relative;width:100%;height:0;padding-bottom:60%;\"><iframe src=\"data:text/html;charset=utf-8;base64,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\" style=\"position:absolute;width:100%;height:100%;left:0;top:0;border:none !important;\" allowfullscreen webkitallowfullscreen mozallowfullscreen></iframe></div></div>"
      ],
      "text/plain": [
       "<folium.folium.Map at 0x1becec1fc08>"
      ]
     },
     "execution_count": 223,
     "metadata": {},
     "output_type": "execute_result"
    }
   ],
   "source": [
    "# Texas Map with folium\n",
    "\n",
    "tex_map = folium.Map(location=[31.000000, -100.000000], zoom_start=12)\n",
    "tex_map # display the map\n"
   ]
  },
  {
   "cell_type": "markdown",
   "metadata": {},
   "source": [
    "The map generated is interactive so we can zoom in and out."
   ]
  },
  {
   "cell_type": "markdown",
   "metadata": {},
   "source": [
    "### Sources\n",
    "https://www.stern-lawgroup.com/car-accidents/texas-car-accident-statistics/\n",
    "\n",
    "https://ftp.dot.state.tx.us/pub/txdot-info/trf/crash_statistics/2016/01.pdf\n",
    "\n",
    "https://data.world/spatialaustin/texas-crash-records-information-system-cris-extract\n",
    "\n",
    "https://pandas.pydata.org/pandas-docs/version/0.23.4/generated/pandas.DatetimeIndex.html\n",
    "\n",
    "https://pandas.pydata.org/pandas-docs/stable/reference/api/pandas.DataFrame.groupby.html\n",
    "\n",
    "https://www.geeksforgeeks.org/python-pandas-df-size-df-shape-and-df-ndim/\n",
    "\n",
    "https://medium.com/python-pandemonium/data-visualization-in-python-pie-charts-in-matplotlib-c71fb0fe5c56"
   ]
  },
  {
   "cell_type": "code",
   "execution_count": null,
   "metadata": {},
   "outputs": [],
   "source": []
  }
 ],
 "metadata": {
  "kernelspec": {
   "display_name": "Python 3",
   "language": "python",
   "name": "python3"
  },
  "language_info": {
   "codemirror_mode": {
    "name": "ipython",
    "version": 3
   },
   "file_extension": ".py",
   "mimetype": "text/x-python",
   "name": "python",
   "nbconvert_exporter": "python",
   "pygments_lexer": "ipython3",
   "version": "3.7.7"
  }
 },
 "nbformat": 4,
 "nbformat_minor": 2
}
