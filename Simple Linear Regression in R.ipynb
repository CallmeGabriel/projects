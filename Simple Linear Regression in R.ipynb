{
 "cells": [
  {
   "cell_type": "code",
   "execution_count": 1,
   "metadata": {},
   "outputs": [
    {
     "data": {
      "text/html": [
       "<table>\n",
       "<thead><tr><th scope=col>Height</th><th scope=col>Weight</th></tr></thead>\n",
       "<tbody>\n",
       "\t<tr><td>1.47 </td><td>52.21</td></tr>\n",
       "\t<tr><td>1.50 </td><td>53.12</td></tr>\n",
       "\t<tr><td>1.52 </td><td>54.48</td></tr>\n",
       "\t<tr><td>1.55 </td><td>55.84</td></tr>\n",
       "\t<tr><td>1.57 </td><td>57.20</td></tr>\n",
       "\t<tr><td>1.60 </td><td>58.57</td></tr>\n",
       "\t<tr><td>1.63 </td><td>59.93</td></tr>\n",
       "\t<tr><td>1.65 </td><td>61.29</td></tr>\n",
       "\t<tr><td>1.68 </td><td>63.11</td></tr>\n",
       "\t<tr><td>1.70 </td><td>64.47</td></tr>\n",
       "</tbody>\n",
       "</table>\n"
      ],
      "text/latex": [
       "\\begin{tabular}{r|ll}\n",
       " Height & Weight\\\\\n",
       "\\hline\n",
       "\t 1.47  & 52.21\\\\\n",
       "\t 1.50  & 53.12\\\\\n",
       "\t 1.52  & 54.48\\\\\n",
       "\t 1.55  & 55.84\\\\\n",
       "\t 1.57  & 57.20\\\\\n",
       "\t 1.60  & 58.57\\\\\n",
       "\t 1.63  & 59.93\\\\\n",
       "\t 1.65  & 61.29\\\\\n",
       "\t 1.68  & 63.11\\\\\n",
       "\t 1.70  & 64.47\\\\\n",
       "\\end{tabular}\n"
      ],
      "text/markdown": [
       "\n",
       "| Height | Weight |\n",
       "|---|---|\n",
       "| 1.47  | 52.21 |\n",
       "| 1.50  | 53.12 |\n",
       "| 1.52  | 54.48 |\n",
       "| 1.55  | 55.84 |\n",
       "| 1.57  | 57.20 |\n",
       "| 1.60  | 58.57 |\n",
       "| 1.63  | 59.93 |\n",
       "| 1.65  | 61.29 |\n",
       "| 1.68  | 63.11 |\n",
       "| 1.70  | 64.47 |\n",
       "\n"
      ],
      "text/plain": [
       "   Height Weight\n",
       "1  1.47   52.21 \n",
       "2  1.50   53.12 \n",
       "3  1.52   54.48 \n",
       "4  1.55   55.84 \n",
       "5  1.57   57.20 \n",
       "6  1.60   58.57 \n",
       "7  1.63   59.93 \n",
       "8  1.65   61.29 \n",
       "9  1.68   63.11 \n",
       "10 1.70   64.47 "
      ]
     },
     "metadata": {},
     "output_type": "display_data"
    }
   ],
   "source": [
    "# Importing the dataset\n",
    "dataset = read.csv(\"../heights-and-weights/data.csv\")\n",
    "head(dataset, n = 10)"
   ]
  },
  {
   "cell_type": "code",
   "execution_count": 2,
   "metadata": {},
   "outputs": [
    {
     "data": {
      "text/html": [
       "<ol class=list-inline>\n",
       "\t<li>15</li>\n",
       "\t<li>2</li>\n",
       "</ol>\n"
      ],
      "text/latex": [
       "\\begin{enumerate*}\n",
       "\\item 15\n",
       "\\item 2\n",
       "\\end{enumerate*}\n"
      ],
      "text/markdown": [
       "1. 15\n",
       "2. 2\n",
       "\n",
       "\n"
      ],
      "text/plain": [
       "[1] 15  2"
      ]
     },
     "metadata": {},
     "output_type": "display_data"
    }
   ],
   "source": [
    "dim(dataset)"
   ]
  },
  {
   "cell_type": "code",
   "execution_count": 3,
   "metadata": {},
   "outputs": [
    {
     "name": "stdout",
     "output_type": "stream",
     "text": [
      "'data.frame':\t15 obs. of  2 variables:\n",
      " $ Height: num  1.47 1.5 1.52 1.55 1.57 1.6 1.63 1.65 1.68 1.7 ...\n",
      " $ Weight: num  52.2 53.1 54.5 55.8 57.2 ...\n"
     ]
    }
   ],
   "source": [
    "str(dataset)"
   ]
  },
  {
   "cell_type": "code",
   "execution_count": 4,
   "metadata": {},
   "outputs": [
    {
     "name": "stderr",
     "output_type": "stream",
     "text": [
      "Warning message:\n",
      "\"package 'caTools' was built under R version 3.6.3\""
     ]
    }
   ],
   "source": [
    "# Splitting the dataset into the Training set and Test set\n",
    "# install.packages('caTools')\n",
    "library(caTools)\n",
    "set.seed(123)\n",
    "split = sample.split(dataset$Weight, SplitRatio = 2/3)\n",
    "training_set = subset(dataset, split == TRUE)\n",
    "test_set = subset(dataset, split == FALSE)"
   ]
  },
  {
   "cell_type": "code",
   "execution_count": 5,
   "metadata": {},
   "outputs": [
    {
     "data": {
      "text/html": [
       "<ol class=list-inline>\n",
       "\t<li>10</li>\n",
       "\t<li>2</li>\n",
       "</ol>\n"
      ],
      "text/latex": [
       "\\begin{enumerate*}\n",
       "\\item 10\n",
       "\\item 2\n",
       "\\end{enumerate*}\n"
      ],
      "text/markdown": [
       "1. 10\n",
       "2. 2\n",
       "\n",
       "\n"
      ],
      "text/plain": [
       "[1] 10  2"
      ]
     },
     "metadata": {},
     "output_type": "display_data"
    }
   ],
   "source": [
    "dim(training_set)"
   ]
  },
  {
   "cell_type": "code",
   "execution_count": 6,
   "metadata": {},
   "outputs": [
    {
     "data": {
      "text/html": [
       "<ol class=list-inline>\n",
       "\t<li>5</li>\n",
       "\t<li>2</li>\n",
       "</ol>\n"
      ],
      "text/latex": [
       "\\begin{enumerate*}\n",
       "\\item 5\n",
       "\\item 2\n",
       "\\end{enumerate*}\n"
      ],
      "text/markdown": [
       "1. 5\n",
       "2. 2\n",
       "\n",
       "\n"
      ],
      "text/plain": [
       "[1] 5 2"
      ]
     },
     "metadata": {},
     "output_type": "display_data"
    }
   ],
   "source": [
    "dim(test_set)"
   ]
  },
  {
   "cell_type": "code",
   "execution_count": 7,
   "metadata": {},
   "outputs": [
    {
     "data": {
      "text/plain": [
       "\n",
       "Call:\n",
       "lm(formula = Weight ~ Height, data = training_set)\n",
       "\n",
       "Residuals:\n",
       "    Min      1Q  Median      3Q     Max \n",
       "-0.9735 -0.6873 -0.2297  0.6840  1.2066 \n",
       "\n",
       "Coefficients:\n",
       "            Estimate Std. Error t value Pr(>|t|)    \n",
       "(Intercept)  -39.748      4.110  -9.672 1.09e-05 ***\n",
       "Height        61.750      2.446  25.241 6.50e-09 ***\n",
       "---\n",
       "Signif. codes:  0 '***' 0.001 '**' 0.01 '*' 0.05 '.' 0.1 ' ' 1\n",
       "\n",
       "Residual standard error: 0.8842 on 8 degrees of freedom\n",
       "Multiple R-squared:  0.9876,\tAdjusted R-squared:  0.986 \n",
       "F-statistic: 637.1 on 1 and 8 DF,  p-value: 6.499e-09\n"
      ]
     },
     "metadata": {},
     "output_type": "display_data"
    }
   ],
   "source": [
    "# Fitting simple Linear Regression to the Training set\n",
    "regressor = lm(formula = Weight ~ Height,\n",
    "               data = training_set)\n",
    "summary(regressor)"
   ]
  },
  {
   "cell_type": "code",
   "execution_count": 8,
   "metadata": {},
   "outputs": [],
   "source": [
    "# Predicting the Test set results\n",
    "y_pred = predict(regressor, newdata = test_set)\n"
   ]
  },
  {
   "cell_type": "code",
   "execution_count": 9,
   "metadata": {},
   "outputs": [
    {
     "name": "stderr",
     "output_type": "stream",
     "text": [
      "Registered S3 methods overwritten by 'ggplot2':\n",
      "  method         from \n",
      "  [.quosures     rlang\n",
      "  c.quosures     rlang\n",
      "  print.quosures rlang\n"
     ]
    },
    {
     "data": {
      "image/png": "[encoded data removed]",
      "text/plain": [
       "plot without title"
      ]
     },
     "metadata": {},
     "output_type": "display_data"
    }
   ],
   "source": [
    "# Visualising the Training set results\n",
    "library(ggplot2)\n",
    "ggplot()+\n",
    "  geom_point(aes(x = training_set$Height, y = training_set$Weight),\n",
    "             colour = 'red')+\n",
    "  geom_line(aes(x = training_set$Height, y =predict(regressor, newdata = training_set)),\n",
    "            colour = 'blue')+\n",
    "  ggtitle('Weight vs Height(Training set)')+\n",
    "  xlab('Height')+\n",
    "  ylab('Weight')"
   ]
  },
  {
   "cell_type": "code",
   "execution_count": 10,
   "metadata": {},
   "outputs": [
    {
     "data": {
      "image/png": "[encoded data removed]",
      "text/plain": [
       "plot without title"
      ]
     },
     "metadata": {},
     "output_type": "display_data"
    }
   ],
   "source": [
    "# Visualising the Test set results\n",
    "library(ggplot2)\n",
    "ggplot()+\n",
    "  geom_point(aes(x = test_set$Height, y = test_set$Weight),\n",
    "             colour = 'red')+\n",
    "  geom_line(aes(x = training_set$Height, y =predict(regressor, newdata = training_set)),\n",
    "            colour = 'blue')+\n",
    "  ggtitle('Weight vs Height(Test set)')+\n",
    "  xlab('Height')+\n",
    "  ylab('Weight')"
   ]
  }
 ],
 "metadata": {
  "kernelspec": {
   "display_name": "R",
   "language": "R",
   "name": "ir"
  },
  "language_info": {
   "codemirror_mode": "r",
   "file_extension": ".r",
   "mimetype": "text/x-r-source",
   "name": "R",
   "pygments_lexer": "r",
   "version": "3.6.1"
  }
 },
 "nbformat": 4,
 "nbformat_minor": 4
}
